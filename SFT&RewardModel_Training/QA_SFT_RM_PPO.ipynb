{
  "cells": [
    {
      "cell_type": "markdown",
      "metadata": {
        "id": "sEqjCjRcteI9"
      },
      "source": [
        "## Import & Load Dataset"
      ]
    },
    {
      "cell_type": "code",
      "source": [
        "!pip install -q datasets"
      ],
      "metadata": {
        "colab": {
          "base_uri": "https://localhost:8080/"
        },
        "id": "amW-klrrbU61",
        "outputId": "59acdf44-fde1-4c13-edf5-258307550b8c"
      },
      "execution_count": null,
      "outputs": [
        {
          "output_type": "stream",
          "name": "stdout",
          "text": [
            "\u001b[?25l   \u001b[90m━━━━━━━━━━━━━━━━━━━━━━━━━━━━━━━━━━━━━━━━\u001b[0m \u001b[32m0.0/480.6 kB\u001b[0m \u001b[31m?\u001b[0m eta \u001b[36m-:--:--\u001b[0m\r\u001b[2K   \u001b[90m━━━━━━━━━━━━━━━━━━━━━━━━━━━━━━━━━━━━━━━━\u001b[0m \u001b[32m480.6/480.6 kB\u001b[0m \u001b[31m24.6 MB/s\u001b[0m eta \u001b[36m0:00:00\u001b[0m\n",
            "\u001b[?25h\u001b[?25l   \u001b[90m━━━━━━━━━━━━━━━━━━━━━━━━━━━━━━━━━━━━━━━━\u001b[0m \u001b[32m0.0/116.3 kB\u001b[0m \u001b[31m?\u001b[0m eta \u001b[36m-:--:--\u001b[0m\r\u001b[2K   \u001b[90m━━━━━━━━━━━━━━━━━━━━━━━━━━━━━━━━━━━━━━━━\u001b[0m \u001b[32m116.3/116.3 kB\u001b[0m \u001b[31m8.1 MB/s\u001b[0m eta \u001b[36m0:00:00\u001b[0m\n",
            "\u001b[?25h\u001b[?25l   \u001b[90m━━━━━━━━━━━━━━━━━━━━━━━━━━━━━━━━━━━━━━━━\u001b[0m \u001b[32m0.0/179.3 kB\u001b[0m \u001b[31m?\u001b[0m eta \u001b[36m-:--:--\u001b[0m\r\u001b[2K   \u001b[90m━━━━━━━━━━━━━━━━━━━━━━━━━━━━━━━━━━━━━━━━\u001b[0m \u001b[32m179.3/179.3 kB\u001b[0m \u001b[31m11.9 MB/s\u001b[0m eta \u001b[36m0:00:00\u001b[0m\n",
            "\u001b[?25h\u001b[?25l   \u001b[90m━━━━━━━━━━━━━━━━━━━━━━━━━━━━━━━━━━━━━━━━\u001b[0m \u001b[32m0.0/134.8 kB\u001b[0m \u001b[31m?\u001b[0m eta \u001b[36m-:--:--\u001b[0m\r\u001b[2K   \u001b[90m━━━━━━━━━━━━━━━━━━━━━━━━━━━━━━━━━━━━━━━━\u001b[0m \u001b[32m134.8/134.8 kB\u001b[0m \u001b[31m12.0 MB/s\u001b[0m eta \u001b[36m0:00:00\u001b[0m\n",
            "\u001b[?25h\u001b[?25l   \u001b[90m━━━━━━━━━━━━━━━━━━━━━━━━━━━━━━━━━━━━━━━━\u001b[0m \u001b[32m0.0/194.1 kB\u001b[0m \u001b[31m?\u001b[0m eta \u001b[36m-:--:--\u001b[0m\r\u001b[2K   \u001b[90m━━━━━━━━━━━━━━━━━━━━━━━━━━━━━━━━━━━━━━━━\u001b[0m \u001b[32m194.1/194.1 kB\u001b[0m \u001b[31m15.7 MB/s\u001b[0m eta \u001b[36m0:00:00\u001b[0m\n",
            "\u001b[?25h\u001b[31mERROR: pip's dependency resolver does not currently take into account all the packages that are installed. This behaviour is the source of the following dependency conflicts.\n",
            "gcsfs 2024.10.0 requires fsspec==2024.10.0, but you have fsspec 2024.9.0 which is incompatible.\u001b[0m\u001b[31m\n",
            "\u001b[0m"
          ]
        }
      ]
    },
    {
      "cell_type": "code",
      "execution_count": null,
      "metadata": {
        "id": "pocHNxJzZpp3"
      },
      "outputs": [],
      "source": [
        "from google.colab import drive\n",
        "import glob\n",
        "import json\n",
        "import os\n",
        "import pandas as pd\n",
        "import torch\n",
        "from datasets import Dataset\n",
        "from transformers import GPT2LMHeadModel, GPT2Tokenizer\n",
        "from transformers import PreTrainedTokenizerFast, AutoModel\n",
        "from sklearn.model_selection import train_test_split\n",
        "from torch.utils.data import Dataset, DataLoader\n",
        "from tqdm import tqdm\n",
        "from torch import nn\n",
        "from transformers import AutoModelForCausalLM, AutoTokenizer\n",
        "from trl import PPOTrainer, PPOConfig"
      ]
    },
    {
      "cell_type": "code",
      "execution_count": null,
      "metadata": {
        "colab": {
          "base_uri": "https://localhost:8080/"
        },
        "id": "4-61sQ7KtnzS",
        "outputId": "8a4fea60-5481-49d1-920f-1f8f6291a5f0"
      },
      "outputs": [
        {
          "output_type": "stream",
          "name": "stdout",
          "text": [
            "Mounted at /content/drive\n"
          ]
        }
      ],
      "source": [
        "drive.mount('/content/drive')"
      ]
    },
    {
      "cell_type": "code",
      "execution_count": null,
      "metadata": {
        "colab": {
          "base_uri": "https://localhost:8080/"
        },
        "id": "IYApJLmAtpyi",
        "outputId": "4e91522b-c9f9-4556-b8eb-c3a3b3e41700"
      },
      "outputs": [
        {
          "output_type": "stream",
          "name": "stdout",
          "text": [
            "yes\n"
          ]
        }
      ],
      "source": [
        "file_path = '/content/drive/MyDrive/멋사자 AI 2차 실전 프로젝트/한국어 성능이 개선된 초거대AI 언어모델 개발 및 데이터/Training/02.라벨링데이터/TL_02.RLHF데이터'\n",
        "\n",
        "if os.path.exists(file_path):\n",
        "  print('yes')"
      ]
    },
    {
      "cell_type": "code",
      "execution_count": null,
      "metadata": {
        "id": "B2B6M9MQuqHa"
      },
      "outputs": [],
      "source": [
        "file_name1 = file_path + '/RMlabel.json'\n",
        "file_name2 = file_path + '/SFTlabel.json'\n",
        "file_name3 = file_path + '/PPOlabel.json'\n",
        "\n",
        "with open(file_name1, 'r') as file:\n",
        "  data = json.load(file)\n",
        "  data1 = data['data_info']\n",
        "\n",
        "with open(file_name2, 'r') as file:\n",
        "  data = json.load(file)\n",
        "  data2 = data['data_info']\n",
        "\n",
        "with open(file_name3, 'r') as file:\n",
        "  data = json.load(file)\n",
        "  data3 = data['data_info']"
      ]
    },
    {
      "cell_type": "code",
      "source": [
        "SFTdf = pd.json_normalize(data2)\n",
        "RMdf = pd.json_normalize(data1)\n",
        "PPOdf = pd.json_normalize(data3)"
      ],
      "metadata": {
        "id": "de10UnAIZbEb"
      },
      "execution_count": null,
      "outputs": []
    },
    {
      "cell_type": "code",
      "source": [
        "device = torch.device(\"cuda\" if torch.cuda.is_available() else \"cpu\")"
      ],
      "metadata": {
        "id": "lWmlfRO7WFRT"
      },
      "execution_count": null,
      "outputs": []
    },
    {
      "cell_type": "code",
      "source": [
        "SFTdf.head(5)"
      ],
      "metadata": {
        "colab": {
          "base_uri": "https://localhost:8080/",
          "height": 677
        },
        "id": "TWW4wTSmaFvR",
        "outputId": "31f0827f-e991-461c-fa73-3dc540b3e04c"
      },
      "execution_count": null,
      "outputs": [
        {
          "output_type": "execute_result",
          "data": {
            "text/plain": [
              "                                data_id question_type  question_count  \\\n",
              "0  04779be1-67ac-4b70-8dc2-fda6dc353b2a            생성               6   \n",
              "1  cb6c0bcf-61c5-4a40-a0ef-b5090b3bac4c            생성              10   \n",
              "2  701a4cf9-28ad-4d67-ae35-05963b14683b            생성               6   \n",
              "3  832d1fe0-42a0-4707-9367-25b13477eee0            생성               8   \n",
              "4  ca7b24aa-17c4-4d22-872e-86710bd023ee            생성               7   \n",
              "\n",
              "                                       question data_category.main  \\\n",
              "0                     화학공학이 다른 공학 분야와 어떻게 다른가요?                문어체   \n",
              "1  정제 탄수화물과 비정제 탄수화물은 사람의 소화 과정에 어떤 차이점을 보이는가?                 문어체   \n",
              "2                  사상의학에서 유전자 분석은 어떻게 활용되고 있나요?                구어체   \n",
              "3                 도자기를 고르게 돌리기 위해 사용하는 도구의 이름은?                구어체   \n",
              "4                   동물 질병 예방을 위한 접종을 어떻게 진행하는가?                구어체   \n",
              "\n",
              "  data_category.middle  answer.answer_count  \\\n",
              "0                   공학                  198   \n",
              "1                   보건                  107   \n",
              "2                   보건                  229   \n",
              "3                  예체능                   20   \n",
              "4                   보건                  208   \n",
              "\n",
              "                                     answer.contents  \n",
              "0  화학공학은 화학과 공학의 합성으로 이루어진 학문 분야입니다. 다른 일반적인 공학 분...  \n",
              "1  정제 탄수화물은 실효성이 높아 소화 과정에서 빠르게 분해되고 흡수됩니다. 이는 혈당...  \n",
              "2  사상의학에서 유전자 분석은 다양한 방법으로 활용되고 있습니다. 일반적으로 질병 예방...  \n",
              "3  도자기를 고르게 돌리기 위해 사용하는 도구는 '도마'입니다. 도마는 도자기를 고르게...  \n",
              "4  동물 질병 예방을 위한 접종은 동물의 종류와 질병에 따라 다소 차이가 있을 수 있지...  "
            ],
            "text/html": [
              "\n",
              "  <div id=\"df-1bf344bf-d4a5-40b6-ace6-e521ba4f03e3\" class=\"colab-df-container\">\n",
              "    <div>\n",
              "<style scoped>\n",
              "    .dataframe tbody tr th:only-of-type {\n",
              "        vertical-align: middle;\n",
              "    }\n",
              "\n",
              "    .dataframe tbody tr th {\n",
              "        vertical-align: top;\n",
              "    }\n",
              "\n",
              "    .dataframe thead th {\n",
              "        text-align: right;\n",
              "    }\n",
              "</style>\n",
              "<table border=\"1\" class=\"dataframe\">\n",
              "  <thead>\n",
              "    <tr style=\"text-align: right;\">\n",
              "      <th></th>\n",
              "      <th>data_id</th>\n",
              "      <th>question_type</th>\n",
              "      <th>question_count</th>\n",
              "      <th>question</th>\n",
              "      <th>data_category.main</th>\n",
              "      <th>data_category.middle</th>\n",
              "      <th>answer.answer_count</th>\n",
              "      <th>answer.contents</th>\n",
              "    </tr>\n",
              "  </thead>\n",
              "  <tbody>\n",
              "    <tr>\n",
              "      <th>0</th>\n",
              "      <td>04779be1-67ac-4b70-8dc2-fda6dc353b2a</td>\n",
              "      <td>생성</td>\n",
              "      <td>6</td>\n",
              "      <td>화학공학이 다른 공학 분야와 어떻게 다른가요?</td>\n",
              "      <td>문어체</td>\n",
              "      <td>공학</td>\n",
              "      <td>198</td>\n",
              "      <td>화학공학은 화학과 공학의 합성으로 이루어진 학문 분야입니다. 다른 일반적인 공학 분...</td>\n",
              "    </tr>\n",
              "    <tr>\n",
              "      <th>1</th>\n",
              "      <td>cb6c0bcf-61c5-4a40-a0ef-b5090b3bac4c</td>\n",
              "      <td>생성</td>\n",
              "      <td>10</td>\n",
              "      <td>정제 탄수화물과 비정제 탄수화물은 사람의 소화 과정에 어떤 차이점을 보이는가?</td>\n",
              "      <td>문어체</td>\n",
              "      <td>보건</td>\n",
              "      <td>107</td>\n",
              "      <td>정제 탄수화물은 실효성이 높아 소화 과정에서 빠르게 분해되고 흡수됩니다. 이는 혈당...</td>\n",
              "    </tr>\n",
              "    <tr>\n",
              "      <th>2</th>\n",
              "      <td>701a4cf9-28ad-4d67-ae35-05963b14683b</td>\n",
              "      <td>생성</td>\n",
              "      <td>6</td>\n",
              "      <td>사상의학에서 유전자 분석은 어떻게 활용되고 있나요?</td>\n",
              "      <td>구어체</td>\n",
              "      <td>보건</td>\n",
              "      <td>229</td>\n",
              "      <td>사상의학에서 유전자 분석은 다양한 방법으로 활용되고 있습니다. 일반적으로 질병 예방...</td>\n",
              "    </tr>\n",
              "    <tr>\n",
              "      <th>3</th>\n",
              "      <td>832d1fe0-42a0-4707-9367-25b13477eee0</td>\n",
              "      <td>생성</td>\n",
              "      <td>8</td>\n",
              "      <td>도자기를 고르게 돌리기 위해 사용하는 도구의 이름은?</td>\n",
              "      <td>구어체</td>\n",
              "      <td>예체능</td>\n",
              "      <td>20</td>\n",
              "      <td>도자기를 고르게 돌리기 위해 사용하는 도구는 '도마'입니다. 도마는 도자기를 고르게...</td>\n",
              "    </tr>\n",
              "    <tr>\n",
              "      <th>4</th>\n",
              "      <td>ca7b24aa-17c4-4d22-872e-86710bd023ee</td>\n",
              "      <td>생성</td>\n",
              "      <td>7</td>\n",
              "      <td>동물 질병 예방을 위한 접종을 어떻게 진행하는가?</td>\n",
              "      <td>구어체</td>\n",
              "      <td>보건</td>\n",
              "      <td>208</td>\n",
              "      <td>동물 질병 예방을 위한 접종은 동물의 종류와 질병에 따라 다소 차이가 있을 수 있지...</td>\n",
              "    </tr>\n",
              "  </tbody>\n",
              "</table>\n",
              "</div>\n",
              "    <div class=\"colab-df-buttons\">\n",
              "\n",
              "  <div class=\"colab-df-container\">\n",
              "    <button class=\"colab-df-convert\" onclick=\"convertToInteractive('df-1bf344bf-d4a5-40b6-ace6-e521ba4f03e3')\"\n",
              "            title=\"Convert this dataframe to an interactive table.\"\n",
              "            style=\"display:none;\">\n",
              "\n",
              "  <svg xmlns=\"http://www.w3.org/2000/svg\" height=\"24px\" viewBox=\"0 -960 960 960\">\n",
              "    <path d=\"M120-120v-720h720v720H120Zm60-500h600v-160H180v160Zm220 220h160v-160H400v160Zm0 220h160v-160H400v160ZM180-400h160v-160H180v160Zm440 0h160v-160H620v160ZM180-180h160v-160H180v160Zm440 0h160v-160H620v160Z\"/>\n",
              "  </svg>\n",
              "    </button>\n",
              "\n",
              "  <style>\n",
              "    .colab-df-container {\n",
              "      display:flex;\n",
              "      gap: 12px;\n",
              "    }\n",
              "\n",
              "    .colab-df-convert {\n",
              "      background-color: #E8F0FE;\n",
              "      border: none;\n",
              "      border-radius: 50%;\n",
              "      cursor: pointer;\n",
              "      display: none;\n",
              "      fill: #1967D2;\n",
              "      height: 32px;\n",
              "      padding: 0 0 0 0;\n",
              "      width: 32px;\n",
              "    }\n",
              "\n",
              "    .colab-df-convert:hover {\n",
              "      background-color: #E2EBFA;\n",
              "      box-shadow: 0px 1px 2px rgba(60, 64, 67, 0.3), 0px 1px 3px 1px rgba(60, 64, 67, 0.15);\n",
              "      fill: #174EA6;\n",
              "    }\n",
              "\n",
              "    .colab-df-buttons div {\n",
              "      margin-bottom: 4px;\n",
              "    }\n",
              "\n",
              "    [theme=dark] .colab-df-convert {\n",
              "      background-color: #3B4455;\n",
              "      fill: #D2E3FC;\n",
              "    }\n",
              "\n",
              "    [theme=dark] .colab-df-convert:hover {\n",
              "      background-color: #434B5C;\n",
              "      box-shadow: 0px 1px 3px 1px rgba(0, 0, 0, 0.15);\n",
              "      filter: drop-shadow(0px 1px 2px rgba(0, 0, 0, 0.3));\n",
              "      fill: #FFFFFF;\n",
              "    }\n",
              "  </style>\n",
              "\n",
              "    <script>\n",
              "      const buttonEl =\n",
              "        document.querySelector('#df-1bf344bf-d4a5-40b6-ace6-e521ba4f03e3 button.colab-df-convert');\n",
              "      buttonEl.style.display =\n",
              "        google.colab.kernel.accessAllowed ? 'block' : 'none';\n",
              "\n",
              "      async function convertToInteractive(key) {\n",
              "        const element = document.querySelector('#df-1bf344bf-d4a5-40b6-ace6-e521ba4f03e3');\n",
              "        const dataTable =\n",
              "          await google.colab.kernel.invokeFunction('convertToInteractive',\n",
              "                                                    [key], {});\n",
              "        if (!dataTable) return;\n",
              "\n",
              "        const docLinkHtml = 'Like what you see? Visit the ' +\n",
              "          '<a target=\"_blank\" href=https://colab.research.google.com/notebooks/data_table.ipynb>data table notebook</a>'\n",
              "          + ' to learn more about interactive tables.';\n",
              "        element.innerHTML = '';\n",
              "        dataTable['output_type'] = 'display_data';\n",
              "        await google.colab.output.renderOutput(dataTable, element);\n",
              "        const docLink = document.createElement('div');\n",
              "        docLink.innerHTML = docLinkHtml;\n",
              "        element.appendChild(docLink);\n",
              "      }\n",
              "    </script>\n",
              "  </div>\n",
              "\n",
              "\n",
              "<div id=\"df-e5e4cf98-c772-4a1a-952c-5fd8bc533a41\">\n",
              "  <button class=\"colab-df-quickchart\" onclick=\"quickchart('df-e5e4cf98-c772-4a1a-952c-5fd8bc533a41')\"\n",
              "            title=\"Suggest charts\"\n",
              "            style=\"display:none;\">\n",
              "\n",
              "<svg xmlns=\"http://www.w3.org/2000/svg\" height=\"24px\"viewBox=\"0 0 24 24\"\n",
              "     width=\"24px\">\n",
              "    <g>\n",
              "        <path d=\"M19 3H5c-1.1 0-2 .9-2 2v14c0 1.1.9 2 2 2h14c1.1 0 2-.9 2-2V5c0-1.1-.9-2-2-2zM9 17H7v-7h2v7zm4 0h-2V7h2v10zm4 0h-2v-4h2v4z\"/>\n",
              "    </g>\n",
              "</svg>\n",
              "  </button>\n",
              "\n",
              "<style>\n",
              "  .colab-df-quickchart {\n",
              "      --bg-color: #E8F0FE;\n",
              "      --fill-color: #1967D2;\n",
              "      --hover-bg-color: #E2EBFA;\n",
              "      --hover-fill-color: #174EA6;\n",
              "      --disabled-fill-color: #AAA;\n",
              "      --disabled-bg-color: #DDD;\n",
              "  }\n",
              "\n",
              "  [theme=dark] .colab-df-quickchart {\n",
              "      --bg-color: #3B4455;\n",
              "      --fill-color: #D2E3FC;\n",
              "      --hover-bg-color: #434B5C;\n",
              "      --hover-fill-color: #FFFFFF;\n",
              "      --disabled-bg-color: #3B4455;\n",
              "      --disabled-fill-color: #666;\n",
              "  }\n",
              "\n",
              "  .colab-df-quickchart {\n",
              "    background-color: var(--bg-color);\n",
              "    border: none;\n",
              "    border-radius: 50%;\n",
              "    cursor: pointer;\n",
              "    display: none;\n",
              "    fill: var(--fill-color);\n",
              "    height: 32px;\n",
              "    padding: 0;\n",
              "    width: 32px;\n",
              "  }\n",
              "\n",
              "  .colab-df-quickchart:hover {\n",
              "    background-color: var(--hover-bg-color);\n",
              "    box-shadow: 0 1px 2px rgba(60, 64, 67, 0.3), 0 1px 3px 1px rgba(60, 64, 67, 0.15);\n",
              "    fill: var(--button-hover-fill-color);\n",
              "  }\n",
              "\n",
              "  .colab-df-quickchart-complete:disabled,\n",
              "  .colab-df-quickchart-complete:disabled:hover {\n",
              "    background-color: var(--disabled-bg-color);\n",
              "    fill: var(--disabled-fill-color);\n",
              "    box-shadow: none;\n",
              "  }\n",
              "\n",
              "  .colab-df-spinner {\n",
              "    border: 2px solid var(--fill-color);\n",
              "    border-color: transparent;\n",
              "    border-bottom-color: var(--fill-color);\n",
              "    animation:\n",
              "      spin 1s steps(1) infinite;\n",
              "  }\n",
              "\n",
              "  @keyframes spin {\n",
              "    0% {\n",
              "      border-color: transparent;\n",
              "      border-bottom-color: var(--fill-color);\n",
              "      border-left-color: var(--fill-color);\n",
              "    }\n",
              "    20% {\n",
              "      border-color: transparent;\n",
              "      border-left-color: var(--fill-color);\n",
              "      border-top-color: var(--fill-color);\n",
              "    }\n",
              "    30% {\n",
              "      border-color: transparent;\n",
              "      border-left-color: var(--fill-color);\n",
              "      border-top-color: var(--fill-color);\n",
              "      border-right-color: var(--fill-color);\n",
              "    }\n",
              "    40% {\n",
              "      border-color: transparent;\n",
              "      border-right-color: var(--fill-color);\n",
              "      border-top-color: var(--fill-color);\n",
              "    }\n",
              "    60% {\n",
              "      border-color: transparent;\n",
              "      border-right-color: var(--fill-color);\n",
              "    }\n",
              "    80% {\n",
              "      border-color: transparent;\n",
              "      border-right-color: var(--fill-color);\n",
              "      border-bottom-color: var(--fill-color);\n",
              "    }\n",
              "    90% {\n",
              "      border-color: transparent;\n",
              "      border-bottom-color: var(--fill-color);\n",
              "    }\n",
              "  }\n",
              "</style>\n",
              "\n",
              "  <script>\n",
              "    async function quickchart(key) {\n",
              "      const quickchartButtonEl =\n",
              "        document.querySelector('#' + key + ' button');\n",
              "      quickchartButtonEl.disabled = true;  // To prevent multiple clicks.\n",
              "      quickchartButtonEl.classList.add('colab-df-spinner');\n",
              "      try {\n",
              "        const charts = await google.colab.kernel.invokeFunction(\n",
              "            'suggestCharts', [key], {});\n",
              "      } catch (error) {\n",
              "        console.error('Error during call to suggestCharts:', error);\n",
              "      }\n",
              "      quickchartButtonEl.classList.remove('colab-df-spinner');\n",
              "      quickchartButtonEl.classList.add('colab-df-quickchart-complete');\n",
              "    }\n",
              "    (() => {\n",
              "      let quickchartButtonEl =\n",
              "        document.querySelector('#df-e5e4cf98-c772-4a1a-952c-5fd8bc533a41 button');\n",
              "      quickchartButtonEl.style.display =\n",
              "        google.colab.kernel.accessAllowed ? 'block' : 'none';\n",
              "    })();\n",
              "  </script>\n",
              "</div>\n",
              "\n",
              "    </div>\n",
              "  </div>\n"
            ],
            "application/vnd.google.colaboratory.intrinsic+json": {
              "type": "dataframe",
              "variable_name": "SFTdf",
              "summary": "{\n  \"name\": \"SFTdf\",\n  \"rows\": 10580,\n  \"fields\": [\n    {\n      \"column\": \"data_id\",\n      \"properties\": {\n        \"dtype\": \"string\",\n        \"num_unique_values\": 10580,\n        \"samples\": [\n          \"ae894b76-3720-4934-8614-143057a2f2e2\",\n          \"1042938b-d90a-422d-af51-5ae2a6cfe652\",\n          \"ce1e166c-5e89-4c9e-a6b7-6bcb983fad67\"\n        ],\n        \"semantic_type\": \"\",\n        \"description\": \"\"\n      }\n    },\n    {\n      \"column\": \"question_type\",\n      \"properties\": {\n        \"dtype\": \"category\",\n        \"num_unique_values\": 1,\n        \"samples\": [\n          \"\\uc0dd\\uc131\"\n        ],\n        \"semantic_type\": \"\",\n        \"description\": \"\"\n      }\n    },\n    {\n      \"column\": \"question_count\",\n      \"properties\": {\n        \"dtype\": \"number\",\n        \"std\": 2,\n        \"min\": 2,\n        \"max\": 28,\n        \"num_unique_values\": 22,\n        \"samples\": [\n          6\n        ],\n        \"semantic_type\": \"\",\n        \"description\": \"\"\n      }\n    },\n    {\n      \"column\": \"question\",\n      \"properties\": {\n        \"dtype\": \"string\",\n        \"num_unique_values\": 10575,\n        \"samples\": [\n          \"\\uae30\\ud6c4\\ubcc0\\ud654 \\uc5f0\\uad6c\\ub97c \\uc218\\ud589\\ud558\\ub294 \\uad6d\\uc81c\\uae30\\uad6c \\uc54c\\ub824\\uc918.\"\n        ],\n        \"semantic_type\": \"\",\n        \"description\": \"\"\n      }\n    },\n    {\n      \"column\": \"data_category.main\",\n      \"properties\": {\n        \"dtype\": \"category\",\n        \"num_unique_values\": 103,\n        \"samples\": [\n          \"\\uc0dd\\ud0dc\\ud559\"\n        ],\n        \"semantic_type\": \"\",\n        \"description\": \"\"\n      }\n    },\n    {\n      \"column\": \"data_category.middle\",\n      \"properties\": {\n        \"dtype\": \"category\",\n        \"num_unique_values\": 10,\n        \"samples\": [\n          \"\\uba85\\uce6d\"\n        ],\n        \"semantic_type\": \"\",\n        \"description\": \"\"\n      }\n    },\n    {\n      \"column\": \"answer.answer_count\",\n      \"properties\": {\n        \"dtype\": \"number\",\n        \"std\": 61,\n        \"min\": 1,\n        \"max\": 386,\n        \"num_unique_values\": 307,\n        \"samples\": [\n          103\n        ],\n        \"semantic_type\": \"\",\n        \"description\": \"\"\n      }\n    },\n    {\n      \"column\": \"answer.contents\",\n      \"properties\": {\n        \"dtype\": \"string\",\n        \"num_unique_values\": 10451,\n        \"samples\": [\n          \"\\uc5ed\\uc0ac\\uc5d0\\uc11c \\uc720\\uba85\\ud55c \\uc804\\uc7c1 \\uc911 \\uc77c\\ubd80 \\uc815\\uce58\\uc801 \\uacb0\\uc815\\uc740 \\ub2e4\\uc74c\\uacfc \\uac19\\uc2b5\\ub2c8\\ub2e4:\\n\\n 1. \\ucc99\\ub7c9 \\uc804\\uc7c1(431-404 BC): \\ud3a0\\ub85c\\ud3f0\\ub124\\uc18c\\uc2a4 \\ub3d9\\ub9f9\\uacfc \\uc544\\ud14c\\ub124 \\ub3d9\\ub9f9 \\uac04\\uc758 \\uc804\\uc7c1\\uc73c\\ub85c, \\uc774\\uc804\\uc5d0\\ub294 \\ub3d9\\ub9f9\\uc774\\uc5c8\\ub358 \\ub450 \\ub3c4\\uc2dc\\uad6d\\uac00 \\uc0ac\\uc774\\uc758 \\uac08\\ub4f1\\uc73c\\ub85c \\uc2dc\\uc791\\ub418\\uc5c8\\uc2b5\\ub2c8\\ub2e4. \\uc774 \\uc804\\uc7c1\\uc740 \\uc544\\ud14c\\ub124\\uc758 \\uc2a4\\ud30c\\ub974\\ud0c0\\uc5d0 \\ub300\\ud55c \\ub300\\uacb0\\uc774 \\ub418\\uc5c8\\uc73c\\uba70, \\uc2a4\\ud30c\\ub974\\ud0c0\\uc758 \\uc2b9\\ub9ac\\ub85c \\uc774\\uc5b4\\uc84c\\uc2b5\\ub2c8\\ub2e4. \\uc774\\ub85c\\uc368 \\uc544\\ud14c\\ub124\\uc758 \\ud798\\uc740 \\uc57d\\ud654\\ub418\\uc5c8\\uace0, \\uadf8\\ub9ac\\uc2a4\\uc758 \\uc815\\uce58\\uc801 \\uc9c0\\ub3c4\\uad8c\\uc740 \\uc2a4\\ud30c\\ub974\\ud0c0\\ub85c \\ub118\\uc5b4\\uac14\\uc2b5\\ub2c8\\ub2e4.\\n\\n 2. \\ubc45\\ucee4\\uc758 \\uc804\\uc7c1(1763-1764): \\ud504\\ub791\\uc2a4\\uc640 \\uc601\\uad6d \\uc0ac\\uc774\\uc758 \\uc804\\uc7c1\\uc73c\\ub85c, \\\"\\uc138\\uacc4 \\ub300\\uc804\\\"\\uc774\\ub77c\\uace0\\ub3c4 \\uc54c\\ub824\\uc838 \\uc788\\uc2b5\\ub2c8\\ub2e4. \\uc774 \\uc804\\uc7c1\\uc740 \\uc601\\uad6d\\uc774 \\ud504\\ub791\\uc2a4\\uc758 \\uc2dd\\ubbfc\\uc9c0\\uc778 \\uce90\\ub098\\ub2e4, \\uc778\\ub3c4, \\uadf8\\ub9ac\\uace0 \\uc911\\ub0a8\\ubbf8\\uc5d0\\uc11c \\uc2b9\\ub9ac\\ud558\\uc600\\uace0, \\uc601\\uad6d\\uc758 \\uc804 \\uc138\\uacc4\\uc801\\uc778 \\uc601\\ud5a5\\ub825\\uc744 \\ud55c\\uce35 \\ub192\\uc600\\uc2b5\\ub2c8\\ub2e4. \\uc774 \\uc804\\uc7c1\\uc758 \\uacb0\\uc815\\uc801\\uc778 \\uc815\\uce58\\uc801 \\uacb0\\uacfc\\ub294 \\ud30c\\ub9ac \\uc870\\uc57d\\uc73c\\ub85c \\uc774\\uc5b4\\uc838, \\ud504\\ub791\\uc2a4\\ub294 \\ub0a8\\uc544\\uc788\\ub294 \\uc2dd\\ubbfc\\uc9c0\\ub97c \\uc601\\uad6d\\uc5d0 \\uc591\\ubcf4\\ud558\\uace0, \\ub300\\uaddc\\ubaa8\\uc758 \\ubcf4\\uc0c1\\uae08\\uc744 \\uc9c0\\ubd88\\ud574\\uc57c \\ud588\\uc2b5\\ub2c8\\ub2e4. \\uc774\\ub97c \\ud1b5\\ud574 \\ud504\\ub791\\uc2a4\\uc758 \\uc2dd\\ubbfc\\uc9c0 \\uc81c\\uad6d\\uc740 \\ud06c\\uac8c \\ucd95\\uc18c\\ub418\\uc5c8\\uace0, \\uc601\\uad6d\\uc740 \\uc804\\uc138\\uacc4\\uc801\\uc778 \\uc720\\ub825\\ud55c \\ub300\\uad6d\\uc73c\\ub85c \\uc790\\ub9ac\\ub9e4\\uae40\\ud558\\uc600\\uc2b5\\ub2c8\\ub2e4.\\n\\n 3. <NAME> \\uc804\\uc7c1 (1803-1815): \\ud504\\ub791\\uc2a4\\uc758 \\ud669\\uc81c <NAME> 1\\uc138\\ub97c \\uc911\\uc2ec\\uc73c\\ub85c \\ubc8c\\uc5b4\\uc9c4 \\uc77c\\ub828\\uc758 \\uc804\\uc7c1\\uc73c\\ub85c, \\uc774 \\uc804\\uc7c1\\uc740 \\ubc1c\\uce78\\ubc18\\ub3c4\\ubd80\\ud130 \\uc720\\ub7fd \\uc804\\uc5ed\\uae4c\\uc9c0 \\uc601\\ud5a5\\uc744 \\ubbf8\\ucce4\\uc2b5\\ub2c8\\ub2e4. <NAME>\\uc740 \\uc5f0\\ud569\\uad70\\uc744 \\uc0c1\\ub300\\ub85c \\uc131\\uc7a5\\ud558\\uba70 \\ub9ce\\uc740 \\uc2b9\\ub9ac\\ub97c \\uac70\\ub450\\uc5c8\\uc73c\\ub098, \\uc6cc\\ud130\\ub8e8 \\uc804\\ud22c\\ub97c \\uac70\\uce58\\uba70 \\ud328\\ubc30\\ud558\\uc600\\uace0, \\uc138\\uacc4\\uc801\\uc73c\\ub85c \\uc720\\ub825\\ud55c \\uc2dd\\ubbfc\\uc9c0 \\uc81c\\uad6d\\uc774\\ub358 \\ud504\\ub791\\uc2a4 \\uc81c\\uad6d\\uc774 \\ubd95\\uad34\\ub418\\uc5c8\\uc2b5\\ub2c8\\ub2e4. \\uc774\\ub85c\\uc368 \\uc8fc\\ucd95 \\uad6d\\uac00\\uc758 \\uc815\\uce58\\uc801 \\uad6d\\uba74\\uc774 \\ubc14\\ub00c\\uba74\\uc11c \\uc720\\ub7fd\\uc758 \\uade0\\ud615\\uacfc \\ud798\\uc740 \\ub2e4\\uc2dc \\uc870\\uc815\\ub418\\uc5c8\\uc2b5\\ub2c8\\ub2e4.\\n\\n \\uc774 \\uc678\\uc5d0\\ub3c4 \\uc5ed\\uc0ac\\uc758 \\ub2e4\\uc591\\ud55c \\uc804\\uc7c1\\ub4e4\\uc740 \\uc8fc\\uc694\\ud55c \\uc815\\uce58\\uc801 \\uacb0\\uc815\\uc744 \\uac00\\uc838\\uc654\\uc73c\\uba70, \\uad6d\\uacbd \\ubcc0\\uacbd, \\uc655\\uc704 \\uac1c\\ud3b8, \\uc2dd\\ubbfc\\uc9c0 \\uc9c0\\ubc30\\uad8c \\ubcc0\\ud654, \\uc2e0\\ud654, \\uc0ac\\ud68c \\uccb4\\uc81c \\ubcc0\\ud654 \\ub4f1\\uc758 \\uacb0\\uacfc\\ub97c \\uac00\\uc838\\uc654\\uc2b5\\ub2c8\\ub2e4. \"\n        ],\n        \"semantic_type\": \"\",\n        \"description\": \"\"\n      }\n    }\n  ]\n}"
            }
          },
          "metadata": {},
          "execution_count": 8
        }
      ]
    },
    {
      "cell_type": "code",
      "source": [
        "trainQA_df = SFTdf[['question','answer.contents']]"
      ],
      "metadata": {
        "id": "BPPqOACGaG6V"
      },
      "execution_count": null,
      "outputs": []
    },
    {
      "cell_type": "code",
      "source": [
        "trainQA_df.head(5)"
      ],
      "metadata": {
        "colab": {
          "base_uri": "https://localhost:8080/",
          "height": 310
        },
        "id": "HLyrZEn4a-Ki",
        "outputId": "ec899cb2-5fa1-4c1f-9502-ba3ebe4e44fa"
      },
      "execution_count": null,
      "outputs": [
        {
          "output_type": "execute_result",
          "data": {
            "text/plain": [
              "                                       question  \\\n",
              "0                     화학공학이 다른 공학 분야와 어떻게 다른가요?   \n",
              "1  정제 탄수화물과 비정제 탄수화물은 사람의 소화 과정에 어떤 차이점을 보이는가?    \n",
              "2                  사상의학에서 유전자 분석은 어떻게 활용되고 있나요?   \n",
              "3                 도자기를 고르게 돌리기 위해 사용하는 도구의 이름은?   \n",
              "4                   동물 질병 예방을 위한 접종을 어떻게 진행하는가?   \n",
              "\n",
              "                                     answer.contents  \n",
              "0  화학공학은 화학과 공학의 합성으로 이루어진 학문 분야입니다. 다른 일반적인 공학 분...  \n",
              "1  정제 탄수화물은 실효성이 높아 소화 과정에서 빠르게 분해되고 흡수됩니다. 이는 혈당...  \n",
              "2  사상의학에서 유전자 분석은 다양한 방법으로 활용되고 있습니다. 일반적으로 질병 예방...  \n",
              "3  도자기를 고르게 돌리기 위해 사용하는 도구는 '도마'입니다. 도마는 도자기를 고르게...  \n",
              "4  동물 질병 예방을 위한 접종은 동물의 종류와 질병에 따라 다소 차이가 있을 수 있지...  "
            ],
            "text/html": [
              "\n",
              "  <div id=\"df-0e442353-7328-41d0-a5e5-99fa83fc55d2\" class=\"colab-df-container\">\n",
              "    <div>\n",
              "<style scoped>\n",
              "    .dataframe tbody tr th:only-of-type {\n",
              "        vertical-align: middle;\n",
              "    }\n",
              "\n",
              "    .dataframe tbody tr th {\n",
              "        vertical-align: top;\n",
              "    }\n",
              "\n",
              "    .dataframe thead th {\n",
              "        text-align: right;\n",
              "    }\n",
              "</style>\n",
              "<table border=\"1\" class=\"dataframe\">\n",
              "  <thead>\n",
              "    <tr style=\"text-align: right;\">\n",
              "      <th></th>\n",
              "      <th>question</th>\n",
              "      <th>answer.contents</th>\n",
              "    </tr>\n",
              "  </thead>\n",
              "  <tbody>\n",
              "    <tr>\n",
              "      <th>0</th>\n",
              "      <td>화학공학이 다른 공학 분야와 어떻게 다른가요?</td>\n",
              "      <td>화학공학은 화학과 공학의 합성으로 이루어진 학문 분야입니다. 다른 일반적인 공학 분...</td>\n",
              "    </tr>\n",
              "    <tr>\n",
              "      <th>1</th>\n",
              "      <td>정제 탄수화물과 비정제 탄수화물은 사람의 소화 과정에 어떤 차이점을 보이는가?</td>\n",
              "      <td>정제 탄수화물은 실효성이 높아 소화 과정에서 빠르게 분해되고 흡수됩니다. 이는 혈당...</td>\n",
              "    </tr>\n",
              "    <tr>\n",
              "      <th>2</th>\n",
              "      <td>사상의학에서 유전자 분석은 어떻게 활용되고 있나요?</td>\n",
              "      <td>사상의학에서 유전자 분석은 다양한 방법으로 활용되고 있습니다. 일반적으로 질병 예방...</td>\n",
              "    </tr>\n",
              "    <tr>\n",
              "      <th>3</th>\n",
              "      <td>도자기를 고르게 돌리기 위해 사용하는 도구의 이름은?</td>\n",
              "      <td>도자기를 고르게 돌리기 위해 사용하는 도구는 '도마'입니다. 도마는 도자기를 고르게...</td>\n",
              "    </tr>\n",
              "    <tr>\n",
              "      <th>4</th>\n",
              "      <td>동물 질병 예방을 위한 접종을 어떻게 진행하는가?</td>\n",
              "      <td>동물 질병 예방을 위한 접종은 동물의 종류와 질병에 따라 다소 차이가 있을 수 있지...</td>\n",
              "    </tr>\n",
              "  </tbody>\n",
              "</table>\n",
              "</div>\n",
              "    <div class=\"colab-df-buttons\">\n",
              "\n",
              "  <div class=\"colab-df-container\">\n",
              "    <button class=\"colab-df-convert\" onclick=\"convertToInteractive('df-0e442353-7328-41d0-a5e5-99fa83fc55d2')\"\n",
              "            title=\"Convert this dataframe to an interactive table.\"\n",
              "            style=\"display:none;\">\n",
              "\n",
              "  <svg xmlns=\"http://www.w3.org/2000/svg\" height=\"24px\" viewBox=\"0 -960 960 960\">\n",
              "    <path d=\"M120-120v-720h720v720H120Zm60-500h600v-160H180v160Zm220 220h160v-160H400v160Zm0 220h160v-160H400v160ZM180-400h160v-160H180v160Zm440 0h160v-160H620v160ZM180-180h160v-160H180v160Zm440 0h160v-160H620v160Z\"/>\n",
              "  </svg>\n",
              "    </button>\n",
              "\n",
              "  <style>\n",
              "    .colab-df-container {\n",
              "      display:flex;\n",
              "      gap: 12px;\n",
              "    }\n",
              "\n",
              "    .colab-df-convert {\n",
              "      background-color: #E8F0FE;\n",
              "      border: none;\n",
              "      border-radius: 50%;\n",
              "      cursor: pointer;\n",
              "      display: none;\n",
              "      fill: #1967D2;\n",
              "      height: 32px;\n",
              "      padding: 0 0 0 0;\n",
              "      width: 32px;\n",
              "    }\n",
              "\n",
              "    .colab-df-convert:hover {\n",
              "      background-color: #E2EBFA;\n",
              "      box-shadow: 0px 1px 2px rgba(60, 64, 67, 0.3), 0px 1px 3px 1px rgba(60, 64, 67, 0.15);\n",
              "      fill: #174EA6;\n",
              "    }\n",
              "\n",
              "    .colab-df-buttons div {\n",
              "      margin-bottom: 4px;\n",
              "    }\n",
              "\n",
              "    [theme=dark] .colab-df-convert {\n",
              "      background-color: #3B4455;\n",
              "      fill: #D2E3FC;\n",
              "    }\n",
              "\n",
              "    [theme=dark] .colab-df-convert:hover {\n",
              "      background-color: #434B5C;\n",
              "      box-shadow: 0px 1px 3px 1px rgba(0, 0, 0, 0.15);\n",
              "      filter: drop-shadow(0px 1px 2px rgba(0, 0, 0, 0.3));\n",
              "      fill: #FFFFFF;\n",
              "    }\n",
              "  </style>\n",
              "\n",
              "    <script>\n",
              "      const buttonEl =\n",
              "        document.querySelector('#df-0e442353-7328-41d0-a5e5-99fa83fc55d2 button.colab-df-convert');\n",
              "      buttonEl.style.display =\n",
              "        google.colab.kernel.accessAllowed ? 'block' : 'none';\n",
              "\n",
              "      async function convertToInteractive(key) {\n",
              "        const element = document.querySelector('#df-0e442353-7328-41d0-a5e5-99fa83fc55d2');\n",
              "        const dataTable =\n",
              "          await google.colab.kernel.invokeFunction('convertToInteractive',\n",
              "                                                    [key], {});\n",
              "        if (!dataTable) return;\n",
              "\n",
              "        const docLinkHtml = 'Like what you see? Visit the ' +\n",
              "          '<a target=\"_blank\" href=https://colab.research.google.com/notebooks/data_table.ipynb>data table notebook</a>'\n",
              "          + ' to learn more about interactive tables.';\n",
              "        element.innerHTML = '';\n",
              "        dataTable['output_type'] = 'display_data';\n",
              "        await google.colab.output.renderOutput(dataTable, element);\n",
              "        const docLink = document.createElement('div');\n",
              "        docLink.innerHTML = docLinkHtml;\n",
              "        element.appendChild(docLink);\n",
              "      }\n",
              "    </script>\n",
              "  </div>\n",
              "\n",
              "\n",
              "<div id=\"df-3bc58db8-5ad3-4d54-ae21-d33d89be9d4e\">\n",
              "  <button class=\"colab-df-quickchart\" onclick=\"quickchart('df-3bc58db8-5ad3-4d54-ae21-d33d89be9d4e')\"\n",
              "            title=\"Suggest charts\"\n",
              "            style=\"display:none;\">\n",
              "\n",
              "<svg xmlns=\"http://www.w3.org/2000/svg\" height=\"24px\"viewBox=\"0 0 24 24\"\n",
              "     width=\"24px\">\n",
              "    <g>\n",
              "        <path d=\"M19 3H5c-1.1 0-2 .9-2 2v14c0 1.1.9 2 2 2h14c1.1 0 2-.9 2-2V5c0-1.1-.9-2-2-2zM9 17H7v-7h2v7zm4 0h-2V7h2v10zm4 0h-2v-4h2v4z\"/>\n",
              "    </g>\n",
              "</svg>\n",
              "  </button>\n",
              "\n",
              "<style>\n",
              "  .colab-df-quickchart {\n",
              "      --bg-color: #E8F0FE;\n",
              "      --fill-color: #1967D2;\n",
              "      --hover-bg-color: #E2EBFA;\n",
              "      --hover-fill-color: #174EA6;\n",
              "      --disabled-fill-color: #AAA;\n",
              "      --disabled-bg-color: #DDD;\n",
              "  }\n",
              "\n",
              "  [theme=dark] .colab-df-quickchart {\n",
              "      --bg-color: #3B4455;\n",
              "      --fill-color: #D2E3FC;\n",
              "      --hover-bg-color: #434B5C;\n",
              "      --hover-fill-color: #FFFFFF;\n",
              "      --disabled-bg-color: #3B4455;\n",
              "      --disabled-fill-color: #666;\n",
              "  }\n",
              "\n",
              "  .colab-df-quickchart {\n",
              "    background-color: var(--bg-color);\n",
              "    border: none;\n",
              "    border-radius: 50%;\n",
              "    cursor: pointer;\n",
              "    display: none;\n",
              "    fill: var(--fill-color);\n",
              "    height: 32px;\n",
              "    padding: 0;\n",
              "    width: 32px;\n",
              "  }\n",
              "\n",
              "  .colab-df-quickchart:hover {\n",
              "    background-color: var(--hover-bg-color);\n",
              "    box-shadow: 0 1px 2px rgba(60, 64, 67, 0.3), 0 1px 3px 1px rgba(60, 64, 67, 0.15);\n",
              "    fill: var(--button-hover-fill-color);\n",
              "  }\n",
              "\n",
              "  .colab-df-quickchart-complete:disabled,\n",
              "  .colab-df-quickchart-complete:disabled:hover {\n",
              "    background-color: var(--disabled-bg-color);\n",
              "    fill: var(--disabled-fill-color);\n",
              "    box-shadow: none;\n",
              "  }\n",
              "\n",
              "  .colab-df-spinner {\n",
              "    border: 2px solid var(--fill-color);\n",
              "    border-color: transparent;\n",
              "    border-bottom-color: var(--fill-color);\n",
              "    animation:\n",
              "      spin 1s steps(1) infinite;\n",
              "  }\n",
              "\n",
              "  @keyframes spin {\n",
              "    0% {\n",
              "      border-color: transparent;\n",
              "      border-bottom-color: var(--fill-color);\n",
              "      border-left-color: var(--fill-color);\n",
              "    }\n",
              "    20% {\n",
              "      border-color: transparent;\n",
              "      border-left-color: var(--fill-color);\n",
              "      border-top-color: var(--fill-color);\n",
              "    }\n",
              "    30% {\n",
              "      border-color: transparent;\n",
              "      border-left-color: var(--fill-color);\n",
              "      border-top-color: var(--fill-color);\n",
              "      border-right-color: var(--fill-color);\n",
              "    }\n",
              "    40% {\n",
              "      border-color: transparent;\n",
              "      border-right-color: var(--fill-color);\n",
              "      border-top-color: var(--fill-color);\n",
              "    }\n",
              "    60% {\n",
              "      border-color: transparent;\n",
              "      border-right-color: var(--fill-color);\n",
              "    }\n",
              "    80% {\n",
              "      border-color: transparent;\n",
              "      border-right-color: var(--fill-color);\n",
              "      border-bottom-color: var(--fill-color);\n",
              "    }\n",
              "    90% {\n",
              "      border-color: transparent;\n",
              "      border-bottom-color: var(--fill-color);\n",
              "    }\n",
              "  }\n",
              "</style>\n",
              "\n",
              "  <script>\n",
              "    async function quickchart(key) {\n",
              "      const quickchartButtonEl =\n",
              "        document.querySelector('#' + key + ' button');\n",
              "      quickchartButtonEl.disabled = true;  // To prevent multiple clicks.\n",
              "      quickchartButtonEl.classList.add('colab-df-spinner');\n",
              "      try {\n",
              "        const charts = await google.colab.kernel.invokeFunction(\n",
              "            'suggestCharts', [key], {});\n",
              "      } catch (error) {\n",
              "        console.error('Error during call to suggestCharts:', error);\n",
              "      }\n",
              "      quickchartButtonEl.classList.remove('colab-df-spinner');\n",
              "      quickchartButtonEl.classList.add('colab-df-quickchart-complete');\n",
              "    }\n",
              "    (() => {\n",
              "      let quickchartButtonEl =\n",
              "        document.querySelector('#df-3bc58db8-5ad3-4d54-ae21-d33d89be9d4e button');\n",
              "      quickchartButtonEl.style.display =\n",
              "        google.colab.kernel.accessAllowed ? 'block' : 'none';\n",
              "    })();\n",
              "  </script>\n",
              "</div>\n",
              "\n",
              "    </div>\n",
              "  </div>\n"
            ],
            "application/vnd.google.colaboratory.intrinsic+json": {
              "type": "dataframe",
              "variable_name": "trainQA_df",
              "summary": "{\n  \"name\": \"trainQA_df\",\n  \"rows\": 10580,\n  \"fields\": [\n    {\n      \"column\": \"question\",\n      \"properties\": {\n        \"dtype\": \"string\",\n        \"num_unique_values\": 10575,\n        \"samples\": [\n          \"\\uae30\\ud6c4\\ubcc0\\ud654 \\uc5f0\\uad6c\\ub97c \\uc218\\ud589\\ud558\\ub294 \\uad6d\\uc81c\\uae30\\uad6c \\uc54c\\ub824\\uc918.\",\n          \"\\ucd95\\uad6c\\ub294 \\uc5b4\\ub5bb\\uac8c \\uc778\\uc885, \\uc131\\ubcc4, \\uc885\\uad50 \\ub4f1 \\ub2e4\\uc591\\uc131\\uc744 \\uc874\\uc911\\ud558\\ub294\\uac00?\",\n          \"\\uc624\\uba54\\uac003 \\uc601\\uc591\\uc81c\\ub97c \\uba39\\uc73c\\ub824\\uace0 \\ud558\\ub294\\ub370 \\uc5b4\\ub5bb\\uac8c \\uba39\\ub294\\uc9c0 \\uc54c\\ub824\\uc8fc\\uc138\\uc694!\"\n        ],\n        \"semantic_type\": \"\",\n        \"description\": \"\"\n      }\n    },\n    {\n      \"column\": \"answer.contents\",\n      \"properties\": {\n        \"dtype\": \"string\",\n        \"num_unique_values\": 10451,\n        \"samples\": [\n          \"\\uc5ed\\uc0ac\\uc5d0\\uc11c \\uc720\\uba85\\ud55c \\uc804\\uc7c1 \\uc911 \\uc77c\\ubd80 \\uc815\\uce58\\uc801 \\uacb0\\uc815\\uc740 \\ub2e4\\uc74c\\uacfc \\uac19\\uc2b5\\ub2c8\\ub2e4:\\n\\n 1. \\ucc99\\ub7c9 \\uc804\\uc7c1(431-404 BC): \\ud3a0\\ub85c\\ud3f0\\ub124\\uc18c\\uc2a4 \\ub3d9\\ub9f9\\uacfc \\uc544\\ud14c\\ub124 \\ub3d9\\ub9f9 \\uac04\\uc758 \\uc804\\uc7c1\\uc73c\\ub85c, \\uc774\\uc804\\uc5d0\\ub294 \\ub3d9\\ub9f9\\uc774\\uc5c8\\ub358 \\ub450 \\ub3c4\\uc2dc\\uad6d\\uac00 \\uc0ac\\uc774\\uc758 \\uac08\\ub4f1\\uc73c\\ub85c \\uc2dc\\uc791\\ub418\\uc5c8\\uc2b5\\ub2c8\\ub2e4. \\uc774 \\uc804\\uc7c1\\uc740 \\uc544\\ud14c\\ub124\\uc758 \\uc2a4\\ud30c\\ub974\\ud0c0\\uc5d0 \\ub300\\ud55c \\ub300\\uacb0\\uc774 \\ub418\\uc5c8\\uc73c\\uba70, \\uc2a4\\ud30c\\ub974\\ud0c0\\uc758 \\uc2b9\\ub9ac\\ub85c \\uc774\\uc5b4\\uc84c\\uc2b5\\ub2c8\\ub2e4. \\uc774\\ub85c\\uc368 \\uc544\\ud14c\\ub124\\uc758 \\ud798\\uc740 \\uc57d\\ud654\\ub418\\uc5c8\\uace0, \\uadf8\\ub9ac\\uc2a4\\uc758 \\uc815\\uce58\\uc801 \\uc9c0\\ub3c4\\uad8c\\uc740 \\uc2a4\\ud30c\\ub974\\ud0c0\\ub85c \\ub118\\uc5b4\\uac14\\uc2b5\\ub2c8\\ub2e4.\\n\\n 2. \\ubc45\\ucee4\\uc758 \\uc804\\uc7c1(1763-1764): \\ud504\\ub791\\uc2a4\\uc640 \\uc601\\uad6d \\uc0ac\\uc774\\uc758 \\uc804\\uc7c1\\uc73c\\ub85c, \\\"\\uc138\\uacc4 \\ub300\\uc804\\\"\\uc774\\ub77c\\uace0\\ub3c4 \\uc54c\\ub824\\uc838 \\uc788\\uc2b5\\ub2c8\\ub2e4. \\uc774 \\uc804\\uc7c1\\uc740 \\uc601\\uad6d\\uc774 \\ud504\\ub791\\uc2a4\\uc758 \\uc2dd\\ubbfc\\uc9c0\\uc778 \\uce90\\ub098\\ub2e4, \\uc778\\ub3c4, \\uadf8\\ub9ac\\uace0 \\uc911\\ub0a8\\ubbf8\\uc5d0\\uc11c \\uc2b9\\ub9ac\\ud558\\uc600\\uace0, \\uc601\\uad6d\\uc758 \\uc804 \\uc138\\uacc4\\uc801\\uc778 \\uc601\\ud5a5\\ub825\\uc744 \\ud55c\\uce35 \\ub192\\uc600\\uc2b5\\ub2c8\\ub2e4. \\uc774 \\uc804\\uc7c1\\uc758 \\uacb0\\uc815\\uc801\\uc778 \\uc815\\uce58\\uc801 \\uacb0\\uacfc\\ub294 \\ud30c\\ub9ac \\uc870\\uc57d\\uc73c\\ub85c \\uc774\\uc5b4\\uc838, \\ud504\\ub791\\uc2a4\\ub294 \\ub0a8\\uc544\\uc788\\ub294 \\uc2dd\\ubbfc\\uc9c0\\ub97c \\uc601\\uad6d\\uc5d0 \\uc591\\ubcf4\\ud558\\uace0, \\ub300\\uaddc\\ubaa8\\uc758 \\ubcf4\\uc0c1\\uae08\\uc744 \\uc9c0\\ubd88\\ud574\\uc57c \\ud588\\uc2b5\\ub2c8\\ub2e4. \\uc774\\ub97c \\ud1b5\\ud574 \\ud504\\ub791\\uc2a4\\uc758 \\uc2dd\\ubbfc\\uc9c0 \\uc81c\\uad6d\\uc740 \\ud06c\\uac8c \\ucd95\\uc18c\\ub418\\uc5c8\\uace0, \\uc601\\uad6d\\uc740 \\uc804\\uc138\\uacc4\\uc801\\uc778 \\uc720\\ub825\\ud55c \\ub300\\uad6d\\uc73c\\ub85c \\uc790\\ub9ac\\ub9e4\\uae40\\ud558\\uc600\\uc2b5\\ub2c8\\ub2e4.\\n\\n 3. <NAME> \\uc804\\uc7c1 (1803-1815): \\ud504\\ub791\\uc2a4\\uc758 \\ud669\\uc81c <NAME> 1\\uc138\\ub97c \\uc911\\uc2ec\\uc73c\\ub85c \\ubc8c\\uc5b4\\uc9c4 \\uc77c\\ub828\\uc758 \\uc804\\uc7c1\\uc73c\\ub85c, \\uc774 \\uc804\\uc7c1\\uc740 \\ubc1c\\uce78\\ubc18\\ub3c4\\ubd80\\ud130 \\uc720\\ub7fd \\uc804\\uc5ed\\uae4c\\uc9c0 \\uc601\\ud5a5\\uc744 \\ubbf8\\ucce4\\uc2b5\\ub2c8\\ub2e4. <NAME>\\uc740 \\uc5f0\\ud569\\uad70\\uc744 \\uc0c1\\ub300\\ub85c \\uc131\\uc7a5\\ud558\\uba70 \\ub9ce\\uc740 \\uc2b9\\ub9ac\\ub97c \\uac70\\ub450\\uc5c8\\uc73c\\ub098, \\uc6cc\\ud130\\ub8e8 \\uc804\\ud22c\\ub97c \\uac70\\uce58\\uba70 \\ud328\\ubc30\\ud558\\uc600\\uace0, \\uc138\\uacc4\\uc801\\uc73c\\ub85c \\uc720\\ub825\\ud55c \\uc2dd\\ubbfc\\uc9c0 \\uc81c\\uad6d\\uc774\\ub358 \\ud504\\ub791\\uc2a4 \\uc81c\\uad6d\\uc774 \\ubd95\\uad34\\ub418\\uc5c8\\uc2b5\\ub2c8\\ub2e4. \\uc774\\ub85c\\uc368 \\uc8fc\\ucd95 \\uad6d\\uac00\\uc758 \\uc815\\uce58\\uc801 \\uad6d\\uba74\\uc774 \\ubc14\\ub00c\\uba74\\uc11c \\uc720\\ub7fd\\uc758 \\uade0\\ud615\\uacfc \\ud798\\uc740 \\ub2e4\\uc2dc \\uc870\\uc815\\ub418\\uc5c8\\uc2b5\\ub2c8\\ub2e4.\\n\\n \\uc774 \\uc678\\uc5d0\\ub3c4 \\uc5ed\\uc0ac\\uc758 \\ub2e4\\uc591\\ud55c \\uc804\\uc7c1\\ub4e4\\uc740 \\uc8fc\\uc694\\ud55c \\uc815\\uce58\\uc801 \\uacb0\\uc815\\uc744 \\uac00\\uc838\\uc654\\uc73c\\uba70, \\uad6d\\uacbd \\ubcc0\\uacbd, \\uc655\\uc704 \\uac1c\\ud3b8, \\uc2dd\\ubbfc\\uc9c0 \\uc9c0\\ubc30\\uad8c \\ubcc0\\ud654, \\uc2e0\\ud654, \\uc0ac\\ud68c \\uccb4\\uc81c \\ubcc0\\ud654 \\ub4f1\\uc758 \\uacb0\\uacfc\\ub97c \\uac00\\uc838\\uc654\\uc2b5\\ub2c8\\ub2e4. \",\n          \"\\ub9c8\\ucde8\\uc0ac\\uc640 \\ub9c8\\ucde8\\uc0ac\\uc758 \\ucc28\\uc774\\uc810\\uc740 \\ub2e4\\uc74c\\uacfc \\uac19\\uc2b5\\ub2c8\\ub2e4:\\n\\n1. \\uc9c1\\ubb34: \\ub9c8\\ucde8\\uc0ac\\ub294 \\ub9c8\\ucde8\\uc5d0 \\ub300\\ud55c \\uad00\\ub9ac\\uc640 \\uac10\\ub3c5\\uc744 \\ub2f4\\ub2f9\\ud558\\ub294 \\uc804\\ubb38\\uac00\\uc785\\ub2c8\\ub2e4. \\ub9c8\\ucde8\\uc0ac\\ub294 \\ub9c8\\ucde8\\ub97c \\ud1b5\\ud574 \\ud658\\uc790\\uc758 \\ud1b5\\uc99d\\uc744 \\uc644\\ud654\\ud558\\uace0 \\uc218\\uc220 \\ub3d9\\uc548 \\uc548\\uc815\\ub41c \\uc0c1\\ud0dc\\ub97c \\uc720\\uc9c0\\ud558\\uae30 \\uc704\\ud574 \\uc57d\\ubb3c\\uc744 \\uad00\\ub9ac\\ud569\\ub2c8\\ub2e4. \\ubc18\\uba74 \\ub9c8\\ucde8\\uacfc\\ub294 \\ud658\\uc790\\uc758 \\ud1b5\\uc99d \\uc644\\ud654 \\ubc0f \\uc218\\uc220 \\ub3d9\\uc548 \\uc548\\uc815\\uc744 \\ub2f4\\ub2f9\\ud558\\ub294 \\uc758\\uc0ac\\uc785\\ub2c8\\ub2e4.\\n\\n2. \\uad50\\uc721 \\ubc0f \\uc790\\uaca9: \\ub9c8\\ucde8\\uc0ac\\ub294 \\ubcf4\\ud1b5 \\uc758\\ub8cc \\ub300\\ud559\\uc5d0\\uc11c \\ub9c8\\uacc4\\ud559 \\uc804\\uacf5\\uc73c\\ub85c \\ud559\\uc704\\ub97c \\ucde8\\ub4dd\\ud55c \\ud6c4 \\uc804\\ubb38 \\uad50\\uc721\\uc744 \\ubc1b\\uc2b5\\ub2c8\\ub2e4. \\uc774\\ud6c4 \\uc790\\uaca9\\uc2dc\\ud5d8\\uc744 \\ud1b5\\uacfc\\ud558\\uc5ec \\ub9c8\\ucde8\\uc0ac\\ub85c\\uc11c\\uc758 \\uc790\\uaca9\\uc744 \\uc5bb\\uac8c \\ub429\\ub2c8\\ub2e4. \\ubc18\\uba74 \\ub9c8\\ucde8\\uacfc\\ub294 \\uc758\\uacfc\\ub300\\ud559\\uc5d0\\uc11c \\uc758\\ud559 \\uc804\\uacf5\\uc744 \\ub9c8\\uce5c \\ud6c4, \\ub9c8\\ucde8\\ud559 \\uc804\\ubb38\\uc758\\ub85c \\uc804\\ubb38 \\uad50\\uc721\\uc744 \\ubc1b\\uc544 \\ub9c8\\ucde8\\uacfc \\uc804\\ubb38\\uc758 \\uc790\\uaca9\\uc744 \\uc5bb\\uc2b5\\ub2c8\\ub2e4.\\n\\n3. \\uc5c5\\ubb34 \\ubc94\\uc704: \\ub9c8\\ucde8\\uc0ac\\ub294 \\ud658\\uc790\\uc758 \\ub9c8\\ucde8 \\uacc4\\ud68d\\uc744 \\uc218\\ub9bd\\ud558\\uace0 \\ub9c8\\ucde8 \\uc2dc\\uc220\\uc744 \\uc9c4\\ud589\\ud569\\ub2c8\\ub2e4. \\uadf8\\ub4e4\\uc740 \\ub9c8\\ucde8 \\uc57d\\ubb3c\\uc758 \\uc120\\ud0dd\\uacfc \\uad00\\ub9ac, \\ud608\\uc555 \\ubc0f \\uc2ec\\ubc15\\uc218 \\ubaa8\\ub2c8\\ud130\\ub9c1, \\ud658\\uc790\\uc758 \\uc218\\uc220 \\ub3d9\\uc548 \\uc548\\uc815\\uc744 \\uc720\\uc9c0\\ud558\\ub294 \\ub4f1\\uc758 \\uc5c5\\ubb34\\ub97c \\ub2f4\\ub2f9\\ud569\\ub2c8\\ub2e4. \\ub9c8\\ucde8\\uacfc\\ub294 \\uc218\\uc220 \\ub3c4\\uc911 \\ubc1c\\uc0dd\\ud560 \\uc218 \\uc788\\ub294 \\ud569\\ubcd1\\uc99d\\uc744 \\uad00\\ub9ac\\ud558\\uac70\\ub098 \\uc2e0\\uccb4 \\uae30\\ub2a5\\uc744 \\ubaa8\\ub2c8\\ud130\\ub9c1\\ud558\\ub294 \\ub354 \\uc804\\ubb38\\uc801\\uc778 \\uc5c5\\ubb34\\ub97c \\ub2f4\\ub2f9\\ud569\\ub2c8\\ub2e4.\\n\\n4. \\ud611\\ub825: \\ub9c8\\ucde8\\uc0ac\\ub294 \\uc758\\uc0ac\\ub098 \\uc218\\uc220\\uc9c4\\uacfc \\uae34\\ubc00\\ud788 \\ud611\\ub825\\ud558\\uc5ec \\ud658\\uc790\\uc758 \\uc548\\uc804\\uc744 \\ubcf4\\uc7a5\\ud569\\ub2c8\\ub2e4. \\ub9c8\\ucde8\\uc0ac\\ub294 \\uc758\\uc0ac\\uc758 \\uc9c0\\uc2dc\\uc5d0 \\ub530\\ub77c \\ub9c8\\ucde8\\ub97c \\uc9c4\\ud589\\ud558\\uba70, \\uc218\\uc220\\uc9c4\\uacfc \\uc2e4\\uc2dc\\uac04\\uc73c\\ub85c \\uc758\\uc0ac\\uc18c\\ud1b5\\ud558\\uc5ec \\ud658\\uc790\\uc758 \\uc0c1\\ud0dc\\ub97c \\ubaa8\\ub2c8\\ud130\\ub9c1\\ud569\\ub2c8\\ub2e4. \\ub9c8\\ucde8\\uacfc\\ub294 \\ub9c8\\ucde8\\uc0ac\\ubfd0\\ub9cc \\uc544\\ub2c8\\ub77c \\uc218\\uc220\\uc9c4\\uacfc \\ud658\\uc790\\uc758 \\uc0c1\\ud0dc\\uc5d0 \\ub300\\ud574 \\uae34\\ubc00\\ud558\\uac8c \\ud611\\ub825\\ud558\\uc5ec \\uc218\\uc220 \\uc2dc \\uc131\\uacf5\\uc801\\uc778 \\uacb0\\uacfc\\ub97c \\uc774\\ub04c\\uc5b4\\ub0c5\\ub2c8\\ub2e4.\\n\\n\\uc774\\ub7ec\\ud55c \\ucc28\\uc774\\uc810 \\ub54c\\ubb38\\uc5d0 \\ub9c8\\ucde8\\uc0ac\\uc640 \\ub9c8\\ucde8\\uacfc\\ub294 \\ub9c8\\ucde8 \\ud504\\ub85c\\uc138\\uc2a4\\uc5d0\\uc11c \\uc11c\\ub85c \\ubcf4\\uc644\\uc801\\uc778 \\uc5ed\\ud560\\uc744 \\uc218\\ud589\\ud558\\uace0 \\uc788\\uc2b5\\ub2c8\\ub2e4.\",\n          \"\\uadfc\\ub300 \\ubbf8\\uc220\\uc5d0\\uc11c\\ub294 \\uc804\\ud1b5\\uc801\\uc778 \\ubbf8\\uc220 \\uc7ac\\ub8cc\\uc5d0 \\ucd94\\uac00\\ub85c \\uc0c8\\ub85c\\uc6b4 \\uc7ac\\ub8cc\\ub4e4\\uc774 \\ub3c4\\uc785\\ub418\\uc5c8\\uc2b5\\ub2c8\\ub2e4. \\uc774\\ub7ec\\ud55c \\ubcc0\\ud654\\ub294 \\ubbf8\\uc220 \\uc791\\ud488\\uc758 \\ud615\\ud0dc\\uc640 \\ud45c\\ud604\\uc744 \\ud601\\uc2e0\\ud558\\uace0 \\ub2e4\\uc591\\ud654\\ud558\\ub294 \\ub370 \\ud070 \\uc601\\ud5a5\\uc744 \\ubbf8\\ucce4\\uc2b5\\ub2c8\\ub2e4.\\n\\n\\uccab\\uc9f8\\ub85c, \\uae30\\uc874\\uc758 \\uc720\\ucc44\\uc640 \\ucc9c\\uc5f0\\uc0c9\\uc18c\\uac00 \\ud65c\\ub3d9\\uc131\\uacfc \\ud45c\\ud604\\ub825\\uc774 \\ub5a8\\uc5b4\\uc9c4\\ub2e4\\ub294 \\ud55c\\uacc4\\ub85c \\uc778\\ud574 \\ub4f1\\uc7a5\\ud55c \\uace0\\uccb4 \\ubb3c\\uac10\\uc774 \\uc788\\uc2b5\\ub2c8\\ub2e4. \\uc774\\ub4e4\\uc740 \\ubb34\\ucc44\\uc640 \\ud654\\ub85c\\uc5d0\\uc11c \\uc9c0\\uc6b8 \\uc218 \\uc5c6\\ub294 \\ud654\\ud559\\uc801\\uc778 \\ubcc0\\ud654\\ub97c \\uacaa\\uc5b4 \\ud2b9\\uc815\\ud55c \\uc2dc\\uac04 \\ub3d9\\uc548 \\uc548\\uc815\\uc801\\uc778 \\uc0c9\\uc0c1\\uc744 \\uc720\\uc9c0\\ud569\\ub2c8\\ub2e4. \\uc774\\ub7ec\\ud55c \\ubb3c\\uac10\\uc744 \\uc0ac\\uc6a9\\ud558\\uba74\\uc11c \\uc791\\uac00\\ub4e4\\uc740 \\ub354\\uc6b1 \\uc0dd\\uc0dd\\ud558\\uace0 \\ud654\\ub824\\ud55c \\uc0c9\\uc0c1\\uc744 \\uad6c\\ud604\\ud560 \\uc218 \\uc788\\uac8c \\ub418\\uc5c8\\uc2b5\\ub2c8\\ub2e4.\\n\\n\\ub458\\uc9f8\\ub85c, \\uc0ac\\uc9c4 \\ubc0f \\uc778\\uc1c4 \\uae30\\uc220\\uc758 \\ubc1c\\uc804\\uc73c\\ub85c \\uc778\\ud574 \\uc0ac\\uc9c4\\uacfc \\uc77c\\ub7ec\\uc2a4\\ud2b8\\ub808\\uc774\\uc158 \\ub4f1\\uc758 \\uc774\\ubbf8\\uc9c0\\ub97c \\ubbf8\\uc220 \\uc791\\ud488\\uc5d0 \\ud65c\\uc6a9\\ud558\\uae30 \\uc2dc\\uc791\\ud588\\uc2b5\\ub2c8\\ub2e4. \\uc0ac\\uc9c4\\uc740 \\uc2dc\\uac01\\uc801 \\uae30\\ub85d \\ubc0f \\ud45c\\ud604\\uc5d0 \\ud070 \\uc601\\ud5a5\\uc744 \\uc8fc\\uba70, \\uc791\\uac00\\ub4e4\\uc740 \\uc0ac\\uc9c4\\uae30\\ub97c \\ud1b5\\ud574 \\uc0c9\\ucc44, \\uc870\\uba85 \\ubc0f \\uc6c0\\uc9c1\\uc784\\uc744 \\ubcf4\\ub2e4 \\uc815\\ud655\\ud558\\uac8c \\uc5f0\\uad6c\\ud558\\uace0 \\ub2f4\\uc744 \\uc218 \\uc788\\uac8c \\ub418\\uc5c8\\uc2b5\\ub2c8\\ub2e4. \\ub610\\ud55c, \\uc778\\uc1c4 \\uae30\\uc220\\uc758 \\ubc1c\\uc804\\uc73c\\ub85c \\uc778\\uc1c4\\ubb3c\\uc744 \\ud65c\\uc6a9\\ud558\\uc5ec \\uc791\\ud488\\uc744 \\ubcf5\\uc81c\\ud558\\uac70\\ub098 \\ub300\\uc911\\uc801\\uc73c\\ub85c \\ubc30\\ud3ec\\ud560 \\uc218 \\uc788\\uac8c \\ub418\\uc5c8\\uc2b5\\ub2c8\\ub2e4.\\n\\n\\uc14b\\uc9f8\\ub85c, \\ube44\\uadf9\\uc801\\uc778 \\uc0ac\\uac74\\ub4e4\\uc774 \\uadfc\\ub300\\uc0ac\\ud68c\\ub97c \\uc120\\ub3c4\\ud55c \\uac83\\uacfc \\ud568\\uaed8 \\uc774\\uc5d0 \\ub300\\ud55c \\uc791\\uac00\\ub4e4\\uc758 \\ubc18\\uc751\\uc73c\\ub85c \\uc778\\ud574 \\uc0c8\\ub85c\\uc6b4 \\uc7ac\\ub8cc\\uac00 \\uc0ac\\uc6a9\\ub418\\uc5c8\\uc2b5\\ub2c8\\ub2e4. \\uc608\\ub97c \\ub4e4\\uc5b4, \\uc81c1\\ucc28 \\uc138\\uacc4 \\ub300\\uc804\\uc5d0\\uc11c\\ub294 \\uc791\\uac00\\ub4e4\\uc774 \\uc804\\uc7c1\\uc5d0 \\ub300\\ud55c \\ubc18\\uc751\\uc73c\\ub85c\\uc11c \\uac01\\uc885 \\ubb3c\\uac74\\uacfc \\uc7ac\\ub8cc\\ub4e4\\uc744 \\uc791\\ud488\\uc5d0 \\ud65c\\uc6a9\\ud588\\uc2b5\\ub2c8\\ub2e4. \\uc804\\ud22c \\uc6a9\\ud488, \\ud30c\\ud3b8, \\uc4f0\\ub808\\uae30 \\ub4f1\\uc758 \\uc7ac\\ub8cc\\ub4e4\\uc774 \\uc791\\uac00\\ub4e4\\uc5d0 \\uc758\\ud574 \\ucc3d\\uc870\\uc801\\uc73c\\ub85c \\ud65c\\uc6a9\\ub418\\uc5c8\\uc73c\\uba70, \\uc774\\ub294 \\ubbf8\\uc220\\uc5d0\\uc11c\\uc758 \\uc7ac\\ub8cc\\uc758 \\ubcc0\\ud654\\uc640 \\ud601\\uc2e0\\uc744 \\ubcf4\\uc5ec\\uc90d\\ub2c8\\ub2e4.\\n\\n\\uc774\\uc640 \\uac19\\uc740 \\uc7ac\\ub8cc\\uc758 \\ubcc0\\ud654\\ub294 \\uadfc\\ub300 \\ubbf8\\uc220\\uc5d0\\uc11c \\ub9ce\\uc740 \\ud604\\ub300 \\uc791\\ud488\\ub4e4\\uc744 \\ud2b9\\uc9d5\\uc9d3\\uace0 \\uc788\\uc73c\\uba70, \\ubbf8\\uc220\\uc5d0 \\ub300\\ud55c \\uc0c8\\ub85c\\uc6b4 \\uc2dc\\uac01\\uacfc \\ud45c\\ud604\\uc758 \\ub2e4\\uc591\\uc131\\uc744 \\uc81c\\uacf5\\ud569\\ub2c8\\ub2e4.\"\n        ],\n        \"semantic_type\": \"\",\n        \"description\": \"\"\n      }\n    }\n  ]\n}"
            }
          },
          "metadata": {},
          "execution_count": 10
        }
      ]
    },
    {
      "cell_type": "markdown",
      "source": [
        "## QA Model train"
      ],
      "metadata": {
        "id": "YC4j6Hn7OC-P"
      }
    },
    {
      "cell_type": "code",
      "source": [
        "trainQA_df, testQA_df = train_test_split(trainQA_df, test_size=0.2, random_state=42)"
      ],
      "metadata": {
        "id": "n6AypQX2eooC"
      },
      "execution_count": null,
      "outputs": []
    },
    {
      "cell_type": "code",
      "source": [
        "model_name = 'skt/kogpt2-base-v2'\n",
        "\n",
        "tokenizer = PreTrainedTokenizerFast.from_pretrained(model_name,\n",
        "bos_token='</s>', eos_token='</s>', unk_token='<unk>',\n",
        "pad_token='<pad>', mask_token='<mask>')\n",
        "model = GPT2LMHeadModel.from_pretrained(model_name)\n",
        "model.to(device)"
      ],
      "metadata": {
        "colab": {
          "base_uri": "https://localhost:8080/",
          "height": 694,
          "referenced_widgets": [
            "98f8c7b7ed344ed48ba72007ad34e787",
            "448f843db6964575aabaa954ed198016",
            "f27bfad279704e538239c6a8d1717ee4",
            "633c8410975f4fce88d95a285a0e6cd1",
            "415d382d29d64e1d96032c4519873dbe",
            "4c0673192ba24f52a6182f3a2e16378e",
            "f034d86dcce64b9fadc8ec6bd7332098",
            "d17010db99044678b853c724a28a04ca",
            "1522a56072344db297c3d5d3068305fc",
            "e7b67bd41e2846d28144c4590e62fb16",
            "34ba971487fc42eba53b18c5bbd66a7c",
            "3700e2d765474a5aacc702dcea6c392b",
            "9b5e80081015411bb442acaac818a48a",
            "c18ac187f29e458eb744836f61e85e31",
            "ab8327a396ef410da2360ee825da888c",
            "1e4a0d88287847abb639540b379d8488",
            "1b17ea1533b44b1abc32fec6ef56306f",
            "ab672333778d4b5abd4b894d409b683c",
            "6c0a060dc9984810b1bca8ffdf2664f0",
            "ff9e3e0f76f4479eb561b539fc5c78d6",
            "36c9898e47c04003a386f3ba0cf09617",
            "79290702ec5841e4a4e7b6a4e2629d84",
            "48f5fe583798495092b50f5060ea5d22",
            "4a981d3b9722434b8c6e2167dbb10050",
            "9ef22aeb1fba44e88054dec582a1a850",
            "ae22352198e14477bde21a30ffff3c72",
            "09d099ad6dc749b59e0510dcc38b664d",
            "245f4918bae644418346865610de96c8",
            "0e30bc67615c4867b91da105448cf34a",
            "c3047655987a405983aa087b4e3d9b42",
            "3e92767aecfd4166b179e95080031718",
            "fcce5bcbf99741659b1734a5ad7c8aca",
            "72ca2e9c37514ce0b3b1a7c1a6913222"
          ]
        },
        "id": "mHf6SLsUbAz4",
        "outputId": "f00be375-41c8-49be-fb85-f2d84ba03bd5"
      },
      "execution_count": null,
      "outputs": [
        {
          "output_type": "display_data",
          "data": {
            "text/plain": [
              "tokenizer.json:   0%|          | 0.00/2.83M [00:00<?, ?B/s]"
            ],
            "application/vnd.jupyter.widget-view+json": {
              "version_major": 2,
              "version_minor": 0,
              "model_id": "98f8c7b7ed344ed48ba72007ad34e787"
            }
          },
          "metadata": {}
        },
        {
          "output_type": "display_data",
          "data": {
            "text/plain": [
              "config.json:   0%|          | 0.00/1.00k [00:00<?, ?B/s]"
            ],
            "application/vnd.jupyter.widget-view+json": {
              "version_major": 2,
              "version_minor": 0,
              "model_id": "3700e2d765474a5aacc702dcea6c392b"
            }
          },
          "metadata": {}
        },
        {
          "output_type": "stream",
          "name": "stderr",
          "text": [
            "The tokenizer class you load from this checkpoint is not the same type as the class this function is called from. It may result in unexpected tokenization. \n",
            "The tokenizer class you load from this checkpoint is 'GPT2Tokenizer'. \n",
            "The class this function is called from is 'PreTrainedTokenizerFast'.\n"
          ]
        },
        {
          "output_type": "display_data",
          "data": {
            "text/plain": [
              "pytorch_model.bin:   0%|          | 0.00/513M [00:00<?, ?B/s]"
            ],
            "application/vnd.jupyter.widget-view+json": {
              "version_major": 2,
              "version_minor": 0,
              "model_id": "48f5fe583798495092b50f5060ea5d22"
            }
          },
          "metadata": {}
        },
        {
          "output_type": "execute_result",
          "data": {
            "text/plain": [
              "GPT2LMHeadModel(\n",
              "  (transformer): GPT2Model(\n",
              "    (wte): Embedding(51200, 768)\n",
              "    (wpe): Embedding(1024, 768)\n",
              "    (drop): Dropout(p=0.1, inplace=False)\n",
              "    (h): ModuleList(\n",
              "      (0-11): 12 x GPT2Block(\n",
              "        (ln_1): LayerNorm((768,), eps=1e-05, elementwise_affine=True)\n",
              "        (attn): GPT2SdpaAttention(\n",
              "          (c_attn): Conv1D(nf=2304, nx=768)\n",
              "          (c_proj): Conv1D(nf=768, nx=768)\n",
              "          (attn_dropout): Dropout(p=0.1, inplace=False)\n",
              "          (resid_dropout): Dropout(p=0.1, inplace=False)\n",
              "        )\n",
              "        (ln_2): LayerNorm((768,), eps=1e-05, elementwise_affine=True)\n",
              "        (mlp): GPT2MLP(\n",
              "          (c_fc): Conv1D(nf=3072, nx=768)\n",
              "          (c_proj): Conv1D(nf=768, nx=3072)\n",
              "          (act): NewGELUActivation()\n",
              "          (dropout): Dropout(p=0.1, inplace=False)\n",
              "        )\n",
              "      )\n",
              "    )\n",
              "    (ln_f): LayerNorm((768,), eps=1e-05, elementwise_affine=True)\n",
              "  )\n",
              "  (lm_head): Linear(in_features=768, out_features=51200, bias=False)\n",
              ")"
            ]
          },
          "metadata": {},
          "execution_count": 124
        }
      ]
    },
    {
      "cell_type": "code",
      "source": [
        "def preprocess_data(df):\n",
        "\n",
        "  input_text = f\"Question: {df['question]']}\"\n",
        "  target_text = df['answer.contents']\n",
        "\n",
        "  input_encoding = tokenizer(input_text, padding='max_length', truncation=True, max_length=512, return_tensors='pt')\n",
        "  target_encoding = tokenizer(target_text, padding='max_length', truncation=True, max_length=512, return_tensors='pt')\n",
        "\n",
        "  input_ids = input_encoding['input_ids'].squeeze()\n",
        "  labels = target_encoding['input_ids'].squeeze()\n",
        "\n",
        "  return {'input_ids': input_ids, 'labels': labels}"
      ],
      "metadata": {
        "id": "hZnaqwHGczFh"
      },
      "execution_count": null,
      "outputs": []
    },
    {
      "cell_type": "code",
      "source": [
        "class QADataset(Dataset):\n",
        "    def __init__(self, df, tokenizer, max_length=512):\n",
        "        self.df = df\n",
        "        self.tokenizer = tokenizer\n",
        "        self.max_length = max_length\n",
        "\n",
        "    def __len__(self):\n",
        "        return len(self.df)\n",
        "\n",
        "    def __getitem__(self, idx):\n",
        "        question = self.df.iloc[idx]['question']\n",
        "        answer = self.df.iloc[idx]['answer.contents']\n",
        "        input_text = f\"Question: {question} Answer: {answer}\"\n",
        "        # 토크나이징 후 텐서로 변환\n",
        "        encoding = self.tokenizer(input_text, truncation=True, padding='max_length', max_length=self.max_length, return_tensors='pt')\n",
        "        return encoding"
      ],
      "metadata": {
        "id": "IwVxiTk9eOlY"
      },
      "execution_count": null,
      "outputs": []
    },
    {
      "cell_type": "code",
      "source": [
        "train_dataset =QADataset(trainQA_df, tokenizer)\n",
        "test_dataset = QADataset(testQA_df, tokenizer)\n",
        "\n",
        "train_loader = DataLoader(train_dataset, batch_size=4, shuffle=True)\n",
        "test_loader = DataLoader(test_dataset, batch_size=4, shuffle=False)"
      ],
      "metadata": {
        "id": "xbw70s2tgYen"
      },
      "execution_count": null,
      "outputs": []
    },
    {
      "cell_type": "code",
      "source": [
        "def train(model, train_loader, optimizer, num_epochs=3):\n",
        "    model.train()\n",
        "\n",
        "    for epoch in range(num_epochs):\n",
        "        for batch in tqdm(train_loader, desc=f\"Epoch {epoch+1}/{num_epochs}\", leave=False):\n",
        "            # 입력 텍스트와 라벨을 GPU로 이동\n",
        "            input_ids = batch['input_ids'].squeeze(1).to(device)\n",
        "            attention_mask = batch['attention_mask'].squeeze(1).to(device)\n",
        "            labels = input_ids\n",
        "\n",
        "            # 모델을 통해 예측 생성\n",
        "            outputs = model(input_ids=input_ids, attention_mask=attention_mask, labels=labels)\n",
        "            loss = outputs.loss\n",
        "\n",
        "            # Backpropagation\n",
        "            optimizer.zero_grad()\n",
        "            loss.backward()\n",
        "            optimizer.step()\n",
        "\n",
        "        tqdm.write(f\"Loss: {loss.item()}\")\n",
        "\n",
        "# 평가 함수 정의\n",
        "def evaluate(model, test_loader):\n",
        "    model.eval()\n",
        "    total_loss = 0\n",
        "    with torch.no_grad():\n",
        "        for batch in tqdm(test_loader, desc=\"Evaluating\", leave=False):\n",
        "            input_ids = batch['input_ids'].squeeze(1).to(device)\n",
        "            attention_mask = batch['attention_mask'].squeeze(1).to(device)\n",
        "            labels = input_ids\n",
        "\n",
        "            outputs = model(input_ids=input_ids, attention_mask=attention_mask, labels=labels)\n",
        "            loss = outputs.loss\n",
        "            total_loss += loss.item()\n",
        "\n",
        "    avg_loss = total_loss / len(test_loader)\n",
        "    print(f\"Test Loss: {avg_loss}\")"
      ],
      "metadata": {
        "id": "jqmo2km-goIk"
      },
      "execution_count": null,
      "outputs": []
    },
    {
      "cell_type": "code",
      "source": [
        "# 옵티마이저 정의\n",
        "optimizer = torch.optim.AdamW(model.parameters(), lr=5e-6)\n",
        "\n",
        "# 모델 학습\n",
        "train(model, train_loader, optimizer, num_epochs=50)\n",
        "\n",
        "# 테스트 데이터로 모델 평가\n",
        "evaluate(model, test_loader)\n",
        "\n",
        "model.save_pretrained('./drive/MyDrive/멋사/챗봇프로젝트/QAmodel')\n",
        "tokenizer.save_pretrained('./drive/MyDrive/멋사/챗봇프로젝트/QAmodel')"
      ],
      "metadata": {
        "colab": {
          "base_uri": "https://localhost:8080/"
        },
        "id": "7f8Jii__hNMx",
        "outputId": "df95fccc-3b9d-4f4f-9d74-4b3b8f2ebbfe"
      },
      "execution_count": null,
      "outputs": [
        {
          "output_type": "stream",
          "name": "stderr",
          "text": []
        },
        {
          "output_type": "stream",
          "name": "stdout",
          "text": [
            "Loss: 1.2993544340133667\n"
          ]
        },
        {
          "output_type": "stream",
          "name": "stderr",
          "text": []
        },
        {
          "output_type": "stream",
          "name": "stdout",
          "text": [
            "Test Loss: 1.1914691119991765\n"
          ]
        },
        {
          "output_type": "execute_result",
          "data": {
            "text/plain": [
              "('./drive/MyDrive/멋사/챗봇프로젝트/QAmodel/tokenizer_config.json',\n",
              " './drive/MyDrive/멋사/챗봇프로젝트/QAmodel/special_tokens_map.json',\n",
              " './drive/MyDrive/멋사/챗봇프로젝트/QAmodel/tokenizer.json')"
            ]
          },
          "metadata": {},
          "execution_count": 17
        }
      ]
    },
    {
      "cell_type": "markdown",
      "source": [
        "## Generate Answer (QA)"
      ],
      "metadata": {
        "id": "rU5YYqIkOJwY"
      }
    },
    {
      "cell_type": "code",
      "source": [
        "def generate_answer(model, tokenizer, testQA_df):\n",
        "  model.eval()\n",
        "\n",
        "  input_text = testQA_df.iloc[2]['question']\n",
        "  print(input_text)\n",
        "\n",
        "  input_ids = tokenizer.encode(input_text, return_tensors='pt').to(device)\n",
        "\n",
        "  output = model.generate(\n",
        "      input_ids=input_ids,\n",
        "      max_length=128,   # 생성될 텍스트의 최대 길이\n",
        "      num_beams=5,      # Beam Search 사용 (다양한 후보 생성)\n",
        "      no_repeat_ngram_size=2,  # 반복되는 n-gram 방지\n",
        "      temperature=0.7,  # 더 확정적인 출력을 위해 낮은 값 사용\n",
        "      top_p=0.9,        # nucleus sampling을 통해 확률 분포 조정\n",
        "      top_k=50,         # 상위 k개 토큰만 선택\n",
        "      pad_token_id=tokenizer.eos_token_id,  # EOS 토큰으로 패딩\n",
        "      early_stopping=True  # 답변이 끝날 때까지 기다리도록 설정\n",
        "  )\n",
        "\n",
        "  generated_text = tokenizer.decode(output[0], skip_special_tokens=True)\n",
        "\n",
        "  # 출력된 답변\n",
        "  print(\"Generated Answer: \", generated_text)"
      ],
      "metadata": {
        "id": "_L2__tKHkRtg"
      },
      "execution_count": null,
      "outputs": []
    },
    {
      "cell_type": "code",
      "source": [
        "model2 = GPT2LMHeadModel.from_pretrained('./drive/MyDrive/멋사/챗봇프로젝트/QAmodel50epochs')\n",
        "tokenizer2 = PreTrainedTokenizerFast.from_pretrained('./drive/MyDrive/멋사/챗봇프로젝트/QAmodel50epochs')"
      ],
      "metadata": {
        "id": "_OvfeI6UyDvn"
      },
      "execution_count": null,
      "outputs": []
    },
    {
      "cell_type": "code",
      "source": [
        "generate_answer(model, tokenizer, testQA_df)"
      ],
      "metadata": {
        "colab": {
          "base_uri": "https://localhost:8080/"
        },
        "id": "oA65QYWmzBDt",
        "outputId": "d1f0ce0a-437b-4ece-b6ec-6fc47aa7542e"
      },
      "execution_count": null,
      "outputs": [
        {
          "output_type": "stream",
          "name": "stdout",
          "text": [
            "에너지 효율적인 시스템과 장비는 어떻게 설치되고 관리되는가?\n",
            "Generated Answer:  에너지 효율적인 시스템과 장비는 어떻게 설치되고 관리되는가?’ 라는 질문에 대한 답변이다.\n",
            "이러한 질문에 답하기 위해선 먼저 ‘스마트홈’ 구축의 필요성부터 살펴봐야 한다.\n",
            "우선 스마트홈은 가정 내 모든 가전기기를 제어하고 제어할 수 있는 시스템으로 가정내 모든 가전제품을 제어하는 것은 물론 에너지 사용량을 실시간으로 모니터링 할 수 있어 에너지 효율을 극대화할 수 있다.\n",
            "또한 스마트폰을 통해 언제 어디서든 스마트폰으로 집안의 가전제품 상태를 실시간 확인할 수 있기 때문에 에너지 절약에 대한 걱정을 덜 수 있을 뿐만 아니라 에너지 절감 효과도 기대할 수 있다.\n"
          ]
        }
      ]
    },
    {
      "cell_type": "code",
      "source": [
        "model2.to(device)\n",
        "generate_answer(model2, tokenizer2, testQA_df)"
      ],
      "metadata": {
        "colab": {
          "base_uri": "https://localhost:8080/"
        },
        "id": "Z4RVkHB9WP3A",
        "outputId": "5dbb0244-c4db-45f4-9812-eadee98ca9c6"
      },
      "execution_count": null,
      "outputs": [
        {
          "output_type": "stream",
          "name": "stdout",
          "text": [
            "에너지 효율적인 시스템과 장비는 어떻게 설치되고 관리되는가?\n",
            "Generated Answer:  에너지 효율적인 시스템과 장비는 어떻게 설치되고 관리되는가? 답변: 효율적인 시스템을 설치하고 관리하기 위해 다음과 같은 단계를 따를 수 있습니다:\n",
            "\n",
            "1. 목표 설정: 시스템의 목표를 설정하고 해당 목표를 달성하기 위한 계획을 수립합니다. 이 단계에서는 시스템의 우선순위를 결정하여 문제를 해결하고 성능을 향상시킬 수 있도록 합니다.\n",
            "\n",
            "2. 자원 할당: 자원을 할당하고 필요한 자원은 할당합니다. 이를 통해 시스템의 자원을 효율적으로 사용할 수 있습니다. 예를 들어, 웹 브라우저, 소셜 미디어 애플리케이션, 이메일 등 자원 할당을 할 수 있습니다.\n",
            "\n",
            "3. 프로세스 최적화: 웹사이트의 구조, 콘텐츠, 링크 등의 프로세스를 최적화합니다. 이를 위해 키워\n"
          ]
        }
      ]
    },
    {
      "cell_type": "markdown",
      "source": [
        "## RM Model train"
      ],
      "metadata": {
        "id": "mYNXzoZB28_4"
      }
    },
    {
      "cell_type": "code",
      "source": [
        "RMdf.head(5)"
      ],
      "metadata": {
        "colab": {
          "base_uri": "https://localhost:8080/",
          "height": 620
        },
        "id": "Pl--rNHh2-GP",
        "outputId": "f975745c-8807-4c98-ef08-7bccbd0bf007"
      },
      "execution_count": null,
      "outputs": [
        {
          "output_type": "execute_result",
          "data": {
            "text/plain": [
              "                                data_id question_type  question_count  \\\n",
              "0  0827c2bf-592d-4048-8f95-3c5fe336c1d1            생성               8   \n",
              "1  e14a45b5-9e2c-44a1-ba37-e1015116e665            생성               5   \n",
              "2  6a5d63bf-ca9e-46a9-8e5c-0d6c5ea7ce81            생성               6   \n",
              "3  c6c9ba7c-116d-4b07-8815-00e0826044ad            생성               4   \n",
              "4  081afbe1-8324-4650-9fc2-e5987f37cd1e            생성               5   \n",
              "\n",
              "                       question data_category.main data_category.middle  \\\n",
              "0  동물에 대한 인식을 높이고 교육하는 데 관심 있어?                문어체                   자연   \n",
              "1           언론이 사회에 미치는 영향은 어때?                문어체                   사회   \n",
              "2          일본 항공권 예약하는 방법 알려 줘.                구어체                   산업   \n",
              "3                 노래를 배워본 적 있어?                구어체                  예체능   \n",
              "4           홈트레이닝 운동 영상을 추천해 줘.                구어체                  예체능   \n",
              "\n",
              "   answer01.answer_count  answer01.ranking  \\\n",
              "0                     42                 1   \n",
              "1                    140                 1   \n",
              "2                    158                 1   \n",
              "3                     19                 1   \n",
              "4                     64                 1   \n",
              "\n",
              "                                   answer01.contents  answer02.answer_count  \\\n",
              "0  네, 저는 동물에 대한 인식을 높이고 교육하는 데 관심이 있습니다. 어떤 종류의 동...                     35   \n",
              "1  언론은 사회에 큰 영향을 미칩니다. 언론은 사회의 다양한 이슈를 보도하고 정보를 제...                    132   \n",
              "2  일본 항공권을 예약하는 방법은 다음과 같습니다:\\n\\n1. 인터넷 검색 엔진을 사용...                    144   \n",
              "3  아니요, 저는 노래를 배울 수는 없지만 노래에 대한 정보나 도움을 드릴 수 있습니다...                     18   \n",
              "4  홈트레이닝 운동을 위한 영상을 추천해 드리겠습니다. 아래의 영상들은 다양한 운동을 ...                     62   \n",
              "\n",
              "   ...                                  answer02.contents  \\\n",
              "0  ...  네, 저는 동물에 대한 인식을 높이고 교육하는 데 관심이 있습니다. 어떤 도움이 필...   \n",
              "1  ...  언론은 사회에 많은 영향을 미칩니다. 먼저, 언론은 정보를 전달하고 사회 이슈에 대...   \n",
              "2  ...  일본 항공권을 예약하는 방법은 여러 가지가 있습니다. 가장 간단한 방법은 온라인으로...   \n",
              "3  ...  아니요, 저는 노래를 배울 수는 없지만, 노래를 배우는 데 도움이 되는 팁이나 리소...   \n",
              "4  ...  홈트레이닝 운동 영상을 추천해 드리겠습니다. 아래의 영상들은 다양한 운동을 집에서 ...   \n",
              "\n",
              "  answer03.answer_count  answer03.ranking  \\\n",
              "0                    27                 3   \n",
              "1                   112                 3   \n",
              "2                   156                 3   \n",
              "3                    16                 3   \n",
              "4                    82                 3   \n",
              "\n",
              "                                   answer03.contents answer04.answer_count  \\\n",
              "0  네, 저는 동물에 대한 인식과 교육을 증진하는 것에 관심이 있습니다. 동물에 대한 ...                    13   \n",
              "1  언론은 사회에 많은 영향을 미칩니다. 우선, 언론은 정보를 전달하고 사회 이슈를 보...                    95   \n",
              "2  일본 항공권을 예약하는 방법은 여러 가지가 있습니다. 다음은 몇 가지 일반적인 예약...                   150   \n",
              "3  아니요, 저는 노래를 배우거나 부를 수 없습니다. 하지만 노래에 대해 어떤 도움이 ...                    16   \n",
              "4  홈트레이닝 운동을 위한 다양한 영상을 추천해 드리겠습니다. 아래의 링크를 클릭하면 ...                    81   \n",
              "\n",
              "   answer04.ranking                                  answer04.contents  \\\n",
              "0                 4  네, 저는 동물에 대한 인식을 높이고 교육하는 데 관심이 있습니다. 어떤 도움이 필...   \n",
              "1                 4  언론은 사회에 많은 영향을 미칩니다. 언론은 정보를 전달하고 사회의 이슈를 보도함으...   \n",
              "2                 4  일본 항공권을 예약하는 방법은 여러 가지가 있습니다. 아래에 몇 가지 일반적인 예약...   \n",
              "3                 4  아니요, 저는 노래를 배울 수는 없지만, 노래에 대한 정보나 조언을 제공할 수 있습...   \n",
              "4                 4  확실히 홈트레이닝 운동은 편리하면서도 효과적인 방법이죠. 여러 가지 운동 영상 중 ...   \n",
              "\n",
              "  answer05.answer_count  answer05.ranking  \\\n",
              "0                    13                 5   \n",
              "1                    62                 5   \n",
              "2                   125                 5   \n",
              "3                    12                 5   \n",
              "4                    60                 5   \n",
              "\n",
              "                                   answer05.contents  \n",
              "0  네, 저는 동물에 대한 인식과 교육을 돕기 위해 노력하고 있습니다. 어떤 도움이 필...  \n",
              "1  언론은 사회에 많은 영향을 미칩니다. 언론은 정보를 전달하고 의견을 형성하는데 큰 ...  \n",
              "2  일본 항공권을 예약하는 방법은 여러 가지가 있습니다. 다음은 몇 가지 일반적인 방법...  \n",
              "3       저는 노래를 배우는 데 도움이 될 수 있습니다. 어떤 노래를 배우고 싶으신가요?  \n",
              "4  홈트레이닝 운동 영상을 추천해 드리겠습니다. 아래의 운동 영상들을 참고해 보세요:\\...  \n",
              "\n",
              "[5 rows x 21 columns]"
            ],
            "text/html": [
              "\n",
              "  <div id=\"df-5eccc6af-2b86-49a9-a580-b6816d13eee4\" class=\"colab-df-container\">\n",
              "    <div>\n",
              "<style scoped>\n",
              "    .dataframe tbody tr th:only-of-type {\n",
              "        vertical-align: middle;\n",
              "    }\n",
              "\n",
              "    .dataframe tbody tr th {\n",
              "        vertical-align: top;\n",
              "    }\n",
              "\n",
              "    .dataframe thead th {\n",
              "        text-align: right;\n",
              "    }\n",
              "</style>\n",
              "<table border=\"1\" class=\"dataframe\">\n",
              "  <thead>\n",
              "    <tr style=\"text-align: right;\">\n",
              "      <th></th>\n",
              "      <th>data_id</th>\n",
              "      <th>question_type</th>\n",
              "      <th>question_count</th>\n",
              "      <th>question</th>\n",
              "      <th>data_category.main</th>\n",
              "      <th>data_category.middle</th>\n",
              "      <th>answer01.answer_count</th>\n",
              "      <th>answer01.ranking</th>\n",
              "      <th>answer01.contents</th>\n",
              "      <th>answer02.answer_count</th>\n",
              "      <th>...</th>\n",
              "      <th>answer02.contents</th>\n",
              "      <th>answer03.answer_count</th>\n",
              "      <th>answer03.ranking</th>\n",
              "      <th>answer03.contents</th>\n",
              "      <th>answer04.answer_count</th>\n",
              "      <th>answer04.ranking</th>\n",
              "      <th>answer04.contents</th>\n",
              "      <th>answer05.answer_count</th>\n",
              "      <th>answer05.ranking</th>\n",
              "      <th>answer05.contents</th>\n",
              "    </tr>\n",
              "  </thead>\n",
              "  <tbody>\n",
              "    <tr>\n",
              "      <th>0</th>\n",
              "      <td>0827c2bf-592d-4048-8f95-3c5fe336c1d1</td>\n",
              "      <td>생성</td>\n",
              "      <td>8</td>\n",
              "      <td>동물에 대한 인식을 높이고 교육하는 데 관심 있어?</td>\n",
              "      <td>문어체</td>\n",
              "      <td>자연</td>\n",
              "      <td>42</td>\n",
              "      <td>1</td>\n",
              "      <td>네, 저는 동물에 대한 인식을 높이고 교육하는 데 관심이 있습니다. 어떤 종류의 동...</td>\n",
              "      <td>35</td>\n",
              "      <td>...</td>\n",
              "      <td>네, 저는 동물에 대한 인식을 높이고 교육하는 데 관심이 있습니다. 어떤 도움이 필...</td>\n",
              "      <td>27</td>\n",
              "      <td>3</td>\n",
              "      <td>네, 저는 동물에 대한 인식과 교육을 증진하는 것에 관심이 있습니다. 동물에 대한 ...</td>\n",
              "      <td>13</td>\n",
              "      <td>4</td>\n",
              "      <td>네, 저는 동물에 대한 인식을 높이고 교육하는 데 관심이 있습니다. 어떤 도움이 필...</td>\n",
              "      <td>13</td>\n",
              "      <td>5</td>\n",
              "      <td>네, 저는 동물에 대한 인식과 교육을 돕기 위해 노력하고 있습니다. 어떤 도움이 필...</td>\n",
              "    </tr>\n",
              "    <tr>\n",
              "      <th>1</th>\n",
              "      <td>e14a45b5-9e2c-44a1-ba37-e1015116e665</td>\n",
              "      <td>생성</td>\n",
              "      <td>5</td>\n",
              "      <td>언론이 사회에 미치는 영향은 어때?</td>\n",
              "      <td>문어체</td>\n",
              "      <td>사회</td>\n",
              "      <td>140</td>\n",
              "      <td>1</td>\n",
              "      <td>언론은 사회에 큰 영향을 미칩니다. 언론은 사회의 다양한 이슈를 보도하고 정보를 제...</td>\n",
              "      <td>132</td>\n",
              "      <td>...</td>\n",
              "      <td>언론은 사회에 많은 영향을 미칩니다. 먼저, 언론은 정보를 전달하고 사회 이슈에 대...</td>\n",
              "      <td>112</td>\n",
              "      <td>3</td>\n",
              "      <td>언론은 사회에 많은 영향을 미칩니다. 우선, 언론은 정보를 전달하고 사회 이슈를 보...</td>\n",
              "      <td>95</td>\n",
              "      <td>4</td>\n",
              "      <td>언론은 사회에 많은 영향을 미칩니다. 언론은 정보를 전달하고 사회의 이슈를 보도함으...</td>\n",
              "      <td>62</td>\n",
              "      <td>5</td>\n",
              "      <td>언론은 사회에 많은 영향을 미칩니다. 언론은 정보를 전달하고 의견을 형성하는데 큰 ...</td>\n",
              "    </tr>\n",
              "    <tr>\n",
              "      <th>2</th>\n",
              "      <td>6a5d63bf-ca9e-46a9-8e5c-0d6c5ea7ce81</td>\n",
              "      <td>생성</td>\n",
              "      <td>6</td>\n",
              "      <td>일본 항공권 예약하는 방법 알려 줘.</td>\n",
              "      <td>구어체</td>\n",
              "      <td>산업</td>\n",
              "      <td>158</td>\n",
              "      <td>1</td>\n",
              "      <td>일본 항공권을 예약하는 방법은 다음과 같습니다:\\n\\n1. 인터넷 검색 엔진을 사용...</td>\n",
              "      <td>144</td>\n",
              "      <td>...</td>\n",
              "      <td>일본 항공권을 예약하는 방법은 여러 가지가 있습니다. 가장 간단한 방법은 온라인으로...</td>\n",
              "      <td>156</td>\n",
              "      <td>3</td>\n",
              "      <td>일본 항공권을 예약하는 방법은 여러 가지가 있습니다. 다음은 몇 가지 일반적인 예약...</td>\n",
              "      <td>150</td>\n",
              "      <td>4</td>\n",
              "      <td>일본 항공권을 예약하는 방법은 여러 가지가 있습니다. 아래에 몇 가지 일반적인 예약...</td>\n",
              "      <td>125</td>\n",
              "      <td>5</td>\n",
              "      <td>일본 항공권을 예약하는 방법은 여러 가지가 있습니다. 다음은 몇 가지 일반적인 방법...</td>\n",
              "    </tr>\n",
              "    <tr>\n",
              "      <th>3</th>\n",
              "      <td>c6c9ba7c-116d-4b07-8815-00e0826044ad</td>\n",
              "      <td>생성</td>\n",
              "      <td>4</td>\n",
              "      <td>노래를 배워본 적 있어?</td>\n",
              "      <td>구어체</td>\n",
              "      <td>예체능</td>\n",
              "      <td>19</td>\n",
              "      <td>1</td>\n",
              "      <td>아니요, 저는 노래를 배울 수는 없지만 노래에 대한 정보나 도움을 드릴 수 있습니다...</td>\n",
              "      <td>18</td>\n",
              "      <td>...</td>\n",
              "      <td>아니요, 저는 노래를 배울 수는 없지만, 노래를 배우는 데 도움이 되는 팁이나 리소...</td>\n",
              "      <td>16</td>\n",
              "      <td>3</td>\n",
              "      <td>아니요, 저는 노래를 배우거나 부를 수 없습니다. 하지만 노래에 대해 어떤 도움이 ...</td>\n",
              "      <td>16</td>\n",
              "      <td>4</td>\n",
              "      <td>아니요, 저는 노래를 배울 수는 없지만, 노래에 대한 정보나 조언을 제공할 수 있습...</td>\n",
              "      <td>12</td>\n",
              "      <td>5</td>\n",
              "      <td>저는 노래를 배우는 데 도움이 될 수 있습니다. 어떤 노래를 배우고 싶으신가요?</td>\n",
              "    </tr>\n",
              "    <tr>\n",
              "      <th>4</th>\n",
              "      <td>081afbe1-8324-4650-9fc2-e5987f37cd1e</td>\n",
              "      <td>생성</td>\n",
              "      <td>5</td>\n",
              "      <td>홈트레이닝 운동 영상을 추천해 줘.</td>\n",
              "      <td>구어체</td>\n",
              "      <td>예체능</td>\n",
              "      <td>64</td>\n",
              "      <td>1</td>\n",
              "      <td>홈트레이닝 운동을 위한 영상을 추천해 드리겠습니다. 아래의 영상들은 다양한 운동을 ...</td>\n",
              "      <td>62</td>\n",
              "      <td>...</td>\n",
              "      <td>홈트레이닝 운동 영상을 추천해 드리겠습니다. 아래의 영상들은 다양한 운동을 집에서 ...</td>\n",
              "      <td>82</td>\n",
              "      <td>3</td>\n",
              "      <td>홈트레이닝 운동을 위한 다양한 영상을 추천해 드리겠습니다. 아래의 링크를 클릭하면 ...</td>\n",
              "      <td>81</td>\n",
              "      <td>4</td>\n",
              "      <td>확실히 홈트레이닝 운동은 편리하면서도 효과적인 방법이죠. 여러 가지 운동 영상 중 ...</td>\n",
              "      <td>60</td>\n",
              "      <td>5</td>\n",
              "      <td>홈트레이닝 운동 영상을 추천해 드리겠습니다. 아래의 운동 영상들을 참고해 보세요:\\...</td>\n",
              "    </tr>\n",
              "  </tbody>\n",
              "</table>\n",
              "<p>5 rows × 21 columns</p>\n",
              "</div>\n",
              "    <div class=\"colab-df-buttons\">\n",
              "\n",
              "  <div class=\"colab-df-container\">\n",
              "    <button class=\"colab-df-convert\" onclick=\"convertToInteractive('df-5eccc6af-2b86-49a9-a580-b6816d13eee4')\"\n",
              "            title=\"Convert this dataframe to an interactive table.\"\n",
              "            style=\"display:none;\">\n",
              "\n",
              "  <svg xmlns=\"http://www.w3.org/2000/svg\" height=\"24px\" viewBox=\"0 -960 960 960\">\n",
              "    <path d=\"M120-120v-720h720v720H120Zm60-500h600v-160H180v160Zm220 220h160v-160H400v160Zm0 220h160v-160H400v160ZM180-400h160v-160H180v160Zm440 0h160v-160H620v160ZM180-180h160v-160H180v160Zm440 0h160v-160H620v160Z\"/>\n",
              "  </svg>\n",
              "    </button>\n",
              "\n",
              "  <style>\n",
              "    .colab-df-container {\n",
              "      display:flex;\n",
              "      gap: 12px;\n",
              "    }\n",
              "\n",
              "    .colab-df-convert {\n",
              "      background-color: #E8F0FE;\n",
              "      border: none;\n",
              "      border-radius: 50%;\n",
              "      cursor: pointer;\n",
              "      display: none;\n",
              "      fill: #1967D2;\n",
              "      height: 32px;\n",
              "      padding: 0 0 0 0;\n",
              "      width: 32px;\n",
              "    }\n",
              "\n",
              "    .colab-df-convert:hover {\n",
              "      background-color: #E2EBFA;\n",
              "      box-shadow: 0px 1px 2px rgba(60, 64, 67, 0.3), 0px 1px 3px 1px rgba(60, 64, 67, 0.15);\n",
              "      fill: #174EA6;\n",
              "    }\n",
              "\n",
              "    .colab-df-buttons div {\n",
              "      margin-bottom: 4px;\n",
              "    }\n",
              "\n",
              "    [theme=dark] .colab-df-convert {\n",
              "      background-color: #3B4455;\n",
              "      fill: #D2E3FC;\n",
              "    }\n",
              "\n",
              "    [theme=dark] .colab-df-convert:hover {\n",
              "      background-color: #434B5C;\n",
              "      box-shadow: 0px 1px 3px 1px rgba(0, 0, 0, 0.15);\n",
              "      filter: drop-shadow(0px 1px 2px rgba(0, 0, 0, 0.3));\n",
              "      fill: #FFFFFF;\n",
              "    }\n",
              "  </style>\n",
              "\n",
              "    <script>\n",
              "      const buttonEl =\n",
              "        document.querySelector('#df-5eccc6af-2b86-49a9-a580-b6816d13eee4 button.colab-df-convert');\n",
              "      buttonEl.style.display =\n",
              "        google.colab.kernel.accessAllowed ? 'block' : 'none';\n",
              "\n",
              "      async function convertToInteractive(key) {\n",
              "        const element = document.querySelector('#df-5eccc6af-2b86-49a9-a580-b6816d13eee4');\n",
              "        const dataTable =\n",
              "          await google.colab.kernel.invokeFunction('convertToInteractive',\n",
              "                                                    [key], {});\n",
              "        if (!dataTable) return;\n",
              "\n",
              "        const docLinkHtml = 'Like what you see? Visit the ' +\n",
              "          '<a target=\"_blank\" href=https://colab.research.google.com/notebooks/data_table.ipynb>data table notebook</a>'\n",
              "          + ' to learn more about interactive tables.';\n",
              "        element.innerHTML = '';\n",
              "        dataTable['output_type'] = 'display_data';\n",
              "        await google.colab.output.renderOutput(dataTable, element);\n",
              "        const docLink = document.createElement('div');\n",
              "        docLink.innerHTML = docLinkHtml;\n",
              "        element.appendChild(docLink);\n",
              "      }\n",
              "    </script>\n",
              "  </div>\n",
              "\n",
              "\n",
              "<div id=\"df-0c7e38fc-b93d-4a01-93f2-a8c4a62cf467\">\n",
              "  <button class=\"colab-df-quickchart\" onclick=\"quickchart('df-0c7e38fc-b93d-4a01-93f2-a8c4a62cf467')\"\n",
              "            title=\"Suggest charts\"\n",
              "            style=\"display:none;\">\n",
              "\n",
              "<svg xmlns=\"http://www.w3.org/2000/svg\" height=\"24px\"viewBox=\"0 0 24 24\"\n",
              "     width=\"24px\">\n",
              "    <g>\n",
              "        <path d=\"M19 3H5c-1.1 0-2 .9-2 2v14c0 1.1.9 2 2 2h14c1.1 0 2-.9 2-2V5c0-1.1-.9-2-2-2zM9 17H7v-7h2v7zm4 0h-2V7h2v10zm4 0h-2v-4h2v4z\"/>\n",
              "    </g>\n",
              "</svg>\n",
              "  </button>\n",
              "\n",
              "<style>\n",
              "  .colab-df-quickchart {\n",
              "      --bg-color: #E8F0FE;\n",
              "      --fill-color: #1967D2;\n",
              "      --hover-bg-color: #E2EBFA;\n",
              "      --hover-fill-color: #174EA6;\n",
              "      --disabled-fill-color: #AAA;\n",
              "      --disabled-bg-color: #DDD;\n",
              "  }\n",
              "\n",
              "  [theme=dark] .colab-df-quickchart {\n",
              "      --bg-color: #3B4455;\n",
              "      --fill-color: #D2E3FC;\n",
              "      --hover-bg-color: #434B5C;\n",
              "      --hover-fill-color: #FFFFFF;\n",
              "      --disabled-bg-color: #3B4455;\n",
              "      --disabled-fill-color: #666;\n",
              "  }\n",
              "\n",
              "  .colab-df-quickchart {\n",
              "    background-color: var(--bg-color);\n",
              "    border: none;\n",
              "    border-radius: 50%;\n",
              "    cursor: pointer;\n",
              "    display: none;\n",
              "    fill: var(--fill-color);\n",
              "    height: 32px;\n",
              "    padding: 0;\n",
              "    width: 32px;\n",
              "  }\n",
              "\n",
              "  .colab-df-quickchart:hover {\n",
              "    background-color: var(--hover-bg-color);\n",
              "    box-shadow: 0 1px 2px rgba(60, 64, 67, 0.3), 0 1px 3px 1px rgba(60, 64, 67, 0.15);\n",
              "    fill: var(--button-hover-fill-color);\n",
              "  }\n",
              "\n",
              "  .colab-df-quickchart-complete:disabled,\n",
              "  .colab-df-quickchart-complete:disabled:hover {\n",
              "    background-color: var(--disabled-bg-color);\n",
              "    fill: var(--disabled-fill-color);\n",
              "    box-shadow: none;\n",
              "  }\n",
              "\n",
              "  .colab-df-spinner {\n",
              "    border: 2px solid var(--fill-color);\n",
              "    border-color: transparent;\n",
              "    border-bottom-color: var(--fill-color);\n",
              "    animation:\n",
              "      spin 1s steps(1) infinite;\n",
              "  }\n",
              "\n",
              "  @keyframes spin {\n",
              "    0% {\n",
              "      border-color: transparent;\n",
              "      border-bottom-color: var(--fill-color);\n",
              "      border-left-color: var(--fill-color);\n",
              "    }\n",
              "    20% {\n",
              "      border-color: transparent;\n",
              "      border-left-color: var(--fill-color);\n",
              "      border-top-color: var(--fill-color);\n",
              "    }\n",
              "    30% {\n",
              "      border-color: transparent;\n",
              "      border-left-color: var(--fill-color);\n",
              "      border-top-color: var(--fill-color);\n",
              "      border-right-color: var(--fill-color);\n",
              "    }\n",
              "    40% {\n",
              "      border-color: transparent;\n",
              "      border-right-color: var(--fill-color);\n",
              "      border-top-color: var(--fill-color);\n",
              "    }\n",
              "    60% {\n",
              "      border-color: transparent;\n",
              "      border-right-color: var(--fill-color);\n",
              "    }\n",
              "    80% {\n",
              "      border-color: transparent;\n",
              "      border-right-color: var(--fill-color);\n",
              "      border-bottom-color: var(--fill-color);\n",
              "    }\n",
              "    90% {\n",
              "      border-color: transparent;\n",
              "      border-bottom-color: var(--fill-color);\n",
              "    }\n",
              "  }\n",
              "</style>\n",
              "\n",
              "  <script>\n",
              "    async function quickchart(key) {\n",
              "      const quickchartButtonEl =\n",
              "        document.querySelector('#' + key + ' button');\n",
              "      quickchartButtonEl.disabled = true;  // To prevent multiple clicks.\n",
              "      quickchartButtonEl.classList.add('colab-df-spinner');\n",
              "      try {\n",
              "        const charts = await google.colab.kernel.invokeFunction(\n",
              "            'suggestCharts', [key], {});\n",
              "      } catch (error) {\n",
              "        console.error('Error during call to suggestCharts:', error);\n",
              "      }\n",
              "      quickchartButtonEl.classList.remove('colab-df-spinner');\n",
              "      quickchartButtonEl.classList.add('colab-df-quickchart-complete');\n",
              "    }\n",
              "    (() => {\n",
              "      let quickchartButtonEl =\n",
              "        document.querySelector('#df-0c7e38fc-b93d-4a01-93f2-a8c4a62cf467 button');\n",
              "      quickchartButtonEl.style.display =\n",
              "        google.colab.kernel.accessAllowed ? 'block' : 'none';\n",
              "    })();\n",
              "  </script>\n",
              "</div>\n",
              "\n",
              "    </div>\n",
              "  </div>\n"
            ],
            "application/vnd.google.colaboratory.intrinsic+json": {
              "type": "dataframe",
              "variable_name": "RMdf"
            }
          },
          "metadata": {},
          "execution_count": 15
        }
      ]
    },
    {
      "cell_type": "code",
      "source": [
        "RMdf['answer01.contents'][5]"
      ],
      "metadata": {
        "colab": {
          "base_uri": "https://localhost:8080/",
          "height": 335
        },
        "id": "u7CUAfNG--_d",
        "outputId": "18f73d99-a641-43a6-f1a7-4bf2c73d9f84"
      },
      "execution_count": null,
      "outputs": [
        {
          "output_type": "execute_result",
          "data": {
            "text/plain": [
              "'학교에서 배운 내용은 영화 제작과 관련된 다양한 측면에 적용될 수 있습니다. \\n\\n1. 시나리오 작성: 학교에서 배운 문학이나 글쓰기 수업에서 얻은 글쓰기 기법이나 구조적인 요소들은 영화 시나리오 작성에 큰 도움이 될 수 있습니다. 시나리오는 영화의 기획 단계에서 중요한 역할을 하며, 흥미로운 이야기를 구성하는 데 학교에서 배운 내용들을 적용할 수 있습니다.\\n\\n2. 연출 및 촬영: 미술, 사진, 영상 등의 수업에서 배운 시각적인 원리와 기법들은 영화의 연출과 촬영 단계에서 적용될 수 있습니다. 예를 들어, 학교에서 배운 조명, 각도, 프레이밍 등의 요소들은 영화의 시각적인 효과를 극대화하는 데 도움이 됩니다.\\n\\n3. 편집: 학교에서 배운 문학이나 영화 이론 수업에서 얻은 지식들은 영화의 편집 단계에서도 활용될 수 있습니다. 영화의 편집은 이야기의 전달과 감정의 전달에 큰 영향을 미치며, 학교에서 배운 내용들을 활용하여 효과적인 편집을 할 수 있습니다.\\n\\n4. 음향: 음악, 사운드 디자인 등의 수업에서 배운 내용들은 영화의 음향 부분에서 적용될 수 있습니다. 학교에서 배운 음악적 원리나 사운드 효과들은 영화의 분위기와 감정을 전달하는 데 큰 역할을 합니다.\\n\\n5. 주제와 메시지: 학교에서 배운 문학 작품이나 사회과학 수업에서 다룬 주제와 메시지들은 영화의 스토리텔링과 메시지 전달에 활용될 수 있습니다. 영화는 사회적인 이슈나 인간의 경험을 다룰 수 있으며, 학교에서 배운 내용들을 통해 영화의 내용과 메시지를 강화시킬 수 있습니다.\\n\\n이처럼 학교에서 배운 내용들은 영화 제작의 다양한 측면에 적용될 수 있으며, 풍부한 지식과 창의성을 발휘하여 좋은 영화를 만들 수 있습니다.'"
            ],
            "application/vnd.google.colaboratory.intrinsic+json": {
              "type": "string"
            }
          },
          "metadata": {},
          "execution_count": 16
        }
      ]
    },
    {
      "cell_type": "code",
      "source": [
        "class RewardModel(nn.Module):\n",
        "  def __init__(self, model_name):\n",
        "    super(RewardModel, self).__init__()\n",
        "    # fine-tuning된 SFT 모델 불러오기\n",
        "    self.base_model = AutoModel.from_pretrained(model_name)\n",
        "    # 점수 출력 (스칼라 값)\n",
        "    self.reward_head = nn.Linear(self.base_model.config.hidden_size, 1)\n",
        "\n",
        "  def forward(self, input_ids, attention_mask):\n",
        "    # 기본 모델의 출력\n",
        "    outputs = self.base_model(input_ids=input_ids, attention_mask=attention_mask)\n",
        "    # [CLS] 토큰을 사용하여 점수 예측\n",
        "    logits = self.reward_head(outputs.last_hidden_state[:, 0, :])\n",
        "    return logits.squeeze(-1)"
      ],
      "metadata": {
        "id": "lOCEbvp-3DA5"
      },
      "execution_count": null,
      "outputs": []
    },
    {
      "cell_type": "code",
      "source": [
        "tokenizer2.model_max_length=512"
      ],
      "metadata": {
        "id": "3Jw4BaRrKXa9"
      },
      "execution_count": null,
      "outputs": []
    },
    {
      "cell_type": "code",
      "source": [
        "# 모델의 최대 입력 길이 확인\n",
        "print(tokenizer2.model_max_length)"
      ],
      "metadata": {
        "colab": {
          "base_uri": "https://localhost:8080/"
        },
        "id": "iBMv71HL9S3n",
        "outputId": "01f4c731-5d7f-4fb7-b6c3-52185684a3bb"
      },
      "execution_count": null,
      "outputs": [
        {
          "output_type": "stream",
          "name": "stdout",
          "text": [
            "512\n"
          ]
        }
      ]
    },
    {
      "cell_type": "code",
      "source": [
        "class RMDataset(Dataset):\n",
        "    def __init__(self, data, tokenizer, max_length=512):\n",
        "        self.inputs = []\n",
        "        self.scores = []\n",
        "        for _, row in data.iterrows():\n",
        "            prompt = row['question']\n",
        "            responses = [row[f'answer0{i+1}.contents'] for i in range(3)]\n",
        "            scores = [row[f'answer0{i+1}.ranking'] for i in range(3)]\n",
        "\n",
        "            # 응답을 각각 토큰화하고 입력 리스트와 스코어 저장\n",
        "            for response, score in zip(responses, scores):\n",
        "                tokenized = tokenizer(\n",
        "                    f\"{prompt} {response}\",\n",
        "                    return_tensors=\"pt\",\n",
        "                    padding='max_length',\n",
        "                    truncation=True,\n",
        "                    max_length=max_length\n",
        "                )\n",
        "                self.inputs.append({\n",
        "                    'input_ids': tokenized['input_ids'].squeeze(0),\n",
        "                    'attention_mask': tokenized['attention_mask'].squeeze(0)\n",
        "                })\n",
        "                self.scores.append(score)\n",
        "\n",
        "    def __len__(self):\n",
        "        return len(self.scores)\n",
        "\n",
        "    def __getitem__(self, idx):\n",
        "        return {\n",
        "            'input_ids': self.inputs[idx]['input_ids'],\n",
        "            'attention_mask': self.inputs[idx]['attention_mask'],\n",
        "            'score': torch.tensor(self.scores[idx], dtype=torch.float32)\n",
        "        }"
      ],
      "metadata": {
        "id": "i3wwJ7VR-2R6"
      },
      "execution_count": null,
      "outputs": []
    },
    {
      "cell_type": "code",
      "source": [
        "trainRM_df, testRM_df = train_test_split(RMdf, test_size=0.2, random_state=42)"
      ],
      "metadata": {
        "id": "0WUs5t_5D6f6"
      },
      "execution_count": null,
      "outputs": []
    },
    {
      "cell_type": "code",
      "source": [
        "rm_dataset = RMDataset(trainRM_df, tokenizer2)\n",
        "dataloader = DataLoader(rm_dataset, batch_size=8, shuffle=True)\n",
        "val_dataset = RMDataset(testRM_df, tokenizer2)\n",
        "val_dataloader = DataLoader(val_dataset, batch_size=8, shuffle=False)"
      ],
      "metadata": {
        "id": "YkdJQwRSAon5"
      },
      "execution_count": null,
      "outputs": []
    },
    {
      "cell_type": "code",
      "source": [
        "torch.cuda.empty_cache()"
      ],
      "metadata": {
        "id": "raKKcWUJFKw5"
      },
      "execution_count": null,
      "outputs": []
    },
    {
      "cell_type": "code",
      "source": [
        "# 체크포인트 저장 함수\n",
        "def save_checkpoint(model, optimizer, epoch, loss, path):\n",
        "    checkpoint = {\n",
        "        'epoch': epoch,\n",
        "        'model_state_dict': model.state_dict(),\n",
        "        'optimizer_state_dict': optimizer.state_dict(),\n",
        "        'loss': loss\n",
        "    }\n",
        "    torch.save(checkpoint, path)\n",
        "    print(f\"Checkpoint saved at {path}\")\n",
        "\n",
        "# 체크포인트 로드 함수\n",
        "def load_checkpoint(path, model, optimizer):\n",
        "    if os.path.exists(path):\n",
        "        checkpoint = torch.load(path)\n",
        "        model.load_state_dict(checkpoint['model_state_dict'])\n",
        "        optimizer.load_state_dict(checkpoint['optimizer_state_dict'])\n",
        "        start_epoch = checkpoint['epoch'] + 1\n",
        "        loss = checkpoint['loss']\n",
        "        print(f\"Checkpoint loaded. Resuming from epoch {start_epoch}, loss: {loss}\")\n",
        "        return start_epoch, loss\n",
        "    else:\n",
        "        print(\"No checkpoint found. Starting from scratch.\")\n",
        "        return 0, None\n"
      ],
      "metadata": {
        "id": "xC3aHSar4QfD"
      },
      "execution_count": null,
      "outputs": []
    },
    {
      "cell_type": "code",
      "source": [
        "loss_fn = nn.MarginRankingLoss(margin=1.0)\n",
        "# 체크포인트 경로 설정\n",
        "checkpoint_path = './drive/MyDrive/멋사/챗봇프로젝트/RMmodel_checkpoint.pt'\n",
        "\n",
        "# 모델과 옵티마이저 초기화\n",
        "model = RewardModel('./drive/MyDrive/멋사/챗봇프로젝트/QAmodel50epochs').to(device)\n",
        "optimizer = torch.optim.AdamW(model.parameters(), lr=5e-5)\n",
        "\n",
        "# 체크포인트 로드\n",
        "start_epoch, prev_loss = load_checkpoint(checkpoint_path, model, optimizer)\n",
        "\n",
        "num_epochs = 10\n",
        "train_losses = []\n",
        "val_losses = []\n",
        "\n",
        "for epoch in range(start_epoch, num_epochs):\n",
        "    model.train()\n",
        "    epoch_train_loss = 0\n",
        "\n",
        "    for batch in tqdm(dataloader, desc=f\"Epoch {epoch + 1}/{num_epochs} Training\", leave=False):\n",
        "        input_ids = batch['input_ids'].to(device)\n",
        "        attention_mask = batch['attention_mask'].to(device)\n",
        "        scores = batch['score'].to(device)\n",
        "\n",
        "        optimizer.zero_grad()\n",
        "\n",
        "        # 점수 예측\n",
        "        predicted_scores = model(input_ids=input_ids, attention_mask=attention_mask)\n",
        "\n",
        "        # Pairwise 손실 계산\n",
        "        true_diff = (scores[:, None] - scores[None, :]).flatten()\n",
        "        predicted_diff = (predicted_scores[:, None] - predicted_scores[None, :]).flatten()\n",
        "\n",
        "        mask = true_diff != 0\n",
        "        true_diff = true_diff[mask]\n",
        "        predicted_diff = predicted_diff[mask]\n",
        "\n",
        "        target = torch.sign(true_diff)  # 순위 차이에 따라 +1, -1 설정\n",
        "\n",
        "        loss = loss_fn(predicted_diff, true_diff, target)\n",
        "\n",
        "        loss.backward()\n",
        "        optimizer.step()\n",
        "\n",
        "        epoch_train_loss += loss.item()\n",
        "\n",
        "    avg_train_loss = epoch_train_loss / len(dataloader)\n",
        "    train_losses.append(avg_train_loss)\n",
        "    print(f\"Epoch {epoch + 1}/{num_epochs} - Train Loss: {avg_train_loss:.4f}\")\n",
        "\n",
        "    # Validation Loop\n",
        "    model.eval()\n",
        "    epoch_val_loss = 0\n",
        "    with torch.no_grad():\n",
        "        for batch in tqdm(val_dataloader, desc=f\"Epoch {epoch + 1}/{num_epochs} Validation\", leave=False):\n",
        "            input_ids = batch['input_ids'].to(device)\n",
        "            attention_mask = batch['attention_mask'].to(device)\n",
        "            scores = batch['score'].to(device)\n",
        "\n",
        "            # 점수 예측\n",
        "            predicted_scores = model(input_ids=input_ids, attention_mask=attention_mask)\n",
        "\n",
        "            # Pairwise 손실 계산\n",
        "            true_diff = (scores[:, None] - scores[None, :]).flatten()\n",
        "            predicted_diff = (predicted_scores[:, None] - predicted_scores[None, :]).flatten()\n",
        "\n",
        "            mask = true_diff != 0\n",
        "            true_diff = true_diff[mask]\n",
        "            predicted_diff = predicted_diff[mask]\n",
        "\n",
        "            target = torch.sign(true_diff)  # 순위 차이에 따라 +1, -1 설정\n",
        "\n",
        "            val_loss = loss_fn(predicted_diff, target.float())\n",
        "            epoch_val_loss += val_loss.item()\n",
        "\n",
        "        avg_val_loss = epoch_val_loss / len(val_dataloader)\n",
        "        val_losses.append(avg_val_loss)\n",
        "        print(f\"Epoch {epoch + 1}/{num_epochs} - Validation Loss: {avg_val_loss:.4f}\")\n",
        "\n",
        "    # 체크포인트 저장\n",
        "    save_checkpoint(model, optimizer, epoch, avg_train_loss, checkpoint_path)\n",
        "\n",
        "# 최종 모델 저장\n",
        "model_save_path = './drive/MyDrive/멋사/챗봇프로젝트/RMmodel'\n",
        "torch.save(model.state_dict(), model_save_path)\n",
        "print(f\"Final model saved to {model_save_path}\")\n"
      ],
      "metadata": {
        "colab": {
          "base_uri": "https://localhost:8080/"
        },
        "id": "H0nOmrHmCNsl",
        "outputId": "ae9e19e9-e0ca-470f-fddd-6ea1915c3b65"
      },
      "execution_count": null,
      "outputs": [
        {
          "metadata": {
            "tags": null
          },
          "name": "stdout",
          "output_type": "stream",
          "text": [
            "No checkpoint found. Starting from scratch.\n"
          ]
        },
        {
          "metadata": {
            "tags": null
          },
          "name": "stderr",
          "output_type": "stream",
          "text": [
            ""
          ]
        },
        {
          "metadata": {
            "tags": null
          },
          "name": "stdout",
          "output_type": "stream",
          "text": [
            "Epoch 1/10 - Train Loss: 1.7797\n"
          ]
        },
        {
          "metadata": {
            "tags": null
          },
          "name": "stderr",
          "output_type": "stream",
          "text": [
            ""
          ]
        },
        {
          "metadata": {
            "tags": null
          },
          "name": "stdout",
          "output_type": "stream",
          "text": [
            "Epoch 1/10 - Validation Loss: 1.8750\n",
            "Checkpoint saved at ./drive/MyDrive/멋사/챗봇프로젝트/RMmodel_checkpoint.pt\n"
          ]
        },
        {
          "metadata": {
            "tags": null
          },
          "name": "stderr",
          "output_type": "stream",
          "text": [
            ""
          ]
        },
        {
          "metadata": {
            "tags": null
          },
          "name": "stdout",
          "output_type": "stream",
          "text": [
            "Epoch 2/10 - Train Loss: 1.7792\n"
          ]
        },
        {
          "metadata": {
            "tags": null
          },
          "name": "stderr",
          "output_type": "stream",
          "text": [
            ""
          ]
        },
        {
          "metadata": {
            "tags": null
          },
          "name": "stdout",
          "output_type": "stream",
          "text": [
            "Epoch 2/10 - Validation Loss: 1.8750\n",
            "Checkpoint saved at ./drive/MyDrive/멋사/챗봇프로젝트/RMmodel_checkpoint.pt\n"
          ]
        },
        {
          "metadata": {
            "tags": null
          },
          "name": "stderr",
          "output_type": "stream",
          "text": [
            ""
          ]
        },
        {
          "metadata": {
            "tags": null
          },
          "name": "stdout",
          "output_type": "stream",
          "text": [
            "Epoch 3/10 - Train Loss: 1.7832\n"
          ]
        },
        {
          "metadata": {
            "tags": null
          },
          "name": "stderr",
          "output_type": "stream",
          "text": [
            ""
          ]
        },
        {
          "metadata": {
            "tags": null
          },
          "name": "stdout",
          "output_type": "stream",
          "text": [
            "Epoch 3/10 - Validation Loss: 1.8750\n",
            "Checkpoint saved at ./drive/MyDrive/멋사/챗봇프로젝트/RMmodel_checkpoint.pt\n"
          ]
        },
        {
          "metadata": {
            "tags": null
          },
          "name": "stderr",
          "output_type": "stream",
          "text": [
            ""
          ]
        },
        {
          "metadata": {
            "tags": null
          },
          "name": "stdout",
          "output_type": "stream",
          "text": [
            "Epoch 4/10 - Train Loss: 1.7789\n"
          ]
        },
        {
          "metadata": {
            "tags": null
          },
          "name": "stderr",
          "output_type": "stream",
          "text": [
            ""
          ]
        },
        {
          "metadata": {
            "tags": null
          },
          "name": "stdout",
          "output_type": "stream",
          "text": [
            "Epoch 4/10 - Validation Loss: 1.8750\n",
            "Checkpoint saved at ./drive/MyDrive/멋사/챗봇프로젝트/RMmodel_checkpoint.pt\n"
          ]
        },
        {
          "metadata": {
            "tags": null
          },
          "name": "stderr",
          "output_type": "stream",
          "text": [
            ""
          ]
        },
        {
          "metadata": {
            "tags": null
          },
          "name": "stdout",
          "output_type": "stream",
          "text": [
            "Epoch 5/10 - Train Loss: 1.7790\n"
          ]
        },
        {
          "metadata": {
            "tags": null
          },
          "name": "stderr",
          "output_type": "stream",
          "text": [
            ""
          ]
        },
        {
          "metadata": {
            "tags": null
          },
          "name": "stdout",
          "output_type": "stream",
          "text": [
            "Epoch 5/10 - Validation Loss: 1.8750\n",
            "Checkpoint saved at ./drive/MyDrive/멋사/챗봇프로젝트/RMmodel_checkpoint.pt\n"
          ]
        },
        {
          "metadata": {
            "tags": null
          },
          "name": "stderr",
          "output_type": "stream",
          "text": [
            ""
          ]
        },
        {
          "metadata": {
            "tags": null
          },
          "name": "stdout",
          "output_type": "stream",
          "text": [
            "Epoch 6/10 - Train Loss: 1.7781\n"
          ]
        },
        {
          "metadata": {
            "tags": null
          },
          "name": "stderr",
          "output_type": "stream",
          "text": [
            ""
          ]
        },
        {
          "metadata": {
            "tags": null
          },
          "name": "stdout",
          "output_type": "stream",
          "text": [
            "Epoch 6/10 - Validation Loss: 1.8793\n",
            "Checkpoint saved at ./drive/MyDrive/멋사/챗봇프로젝트/RMmodel_checkpoint.pt\n"
          ]
        },
        {
          "output_type": "stream",
          "name": "stderr",
          "text": []
        },
        {
          "output_type": "stream",
          "name": "stdout",
          "text": [
            "Epoch 7/10 - Train Loss: 1.7804\n"
          ]
        },
        {
          "output_type": "stream",
          "name": "stderr",
          "text": []
        },
        {
          "output_type": "stream",
          "name": "stdout",
          "text": [
            "Epoch 7/10 - Validation Loss: 1.8750\n",
            "Checkpoint saved at ./drive/MyDrive/멋사/챗봇프로젝트/RMmodel_checkpoint.pt\n"
          ]
        },
        {
          "output_type": "stream",
          "name": "stderr",
          "text": []
        },
        {
          "output_type": "stream",
          "name": "stdout",
          "text": [
            "Epoch 8/10 - Train Loss: 1.7742\n"
          ]
        },
        {
          "output_type": "stream",
          "name": "stderr",
          "text": []
        },
        {
          "output_type": "stream",
          "name": "stdout",
          "text": [
            "Epoch 8/10 - Validation Loss: 1.8750\n",
            "Checkpoint saved at ./drive/MyDrive/멋사/챗봇프로젝트/RMmodel_checkpoint.pt\n"
          ]
        },
        {
          "output_type": "stream",
          "name": "stderr",
          "text": [
            "Epoch 9/10 Training:  54%|█████▍    | 4282/7923 [28:25<24:16,  2.50it/s]"
          ]
        }
      ]
    },
    {
      "cell_type": "code",
      "source": [
        "def generate_scores(model, prompt, responses):\n",
        "    model.eval()\n",
        "    tokenized_responses = [\n",
        "        tokenizer(f\"{prompt} {response}\", return_tensors=\"pt\", padding=True, truncation=True)\n",
        "        for response in responses\n",
        "    ]\n",
        "\n",
        "    predicted_scores = []\n",
        "    with torch.no_grad():\n",
        "        for response in tokenized_responses:\n",
        "            input_ids = response['input_ids'].squeeze(1).to(device)\n",
        "            attention_mask = response['attention_mask'].squeeze(1).to(device)\n",
        "            predicted_score = model(input_ids=input_ids, attention_mask=attention_mask)\n",
        "            predicted_scores.append(predicted_score.item())\n",
        "\n",
        "    return predicted_scores\n"
      ],
      "metadata": {
        "id": "9mTUoTr5E7EW"
      },
      "execution_count": null,
      "outputs": []
    },
    {
      "cell_type": "markdown",
      "source": [
        "## Generate Answer (QA+RM)"
      ],
      "metadata": {
        "id": "aZ_hrnCjOZ_Y"
      }
    },
    {
      "cell_type": "code",
      "source": [
        "def generate_answer(generate_model, rank_model, tokenizer, testQA_df):\n",
        "  generate_model.eval()\n",
        "  rank_model.eval()\n",
        "\n",
        "  input_text = testQA_df.iloc[2]['question']\n",
        "  print(input_text)\n",
        "\n",
        "  input_ids = tokenizer.encode(input_text, return_tensors='pt').to(device)\n",
        "\n",
        "  outputs = generate_model.generate(\n",
        "      input_ids=input_ids,\n",
        "      max_length=128,   # 생성될 텍스트의 최대 길이\n",
        "      do_sample=True, # Sampling\n",
        "      # num_beams=3, # Beam Search 사용 (다양한 후보 생성)\n",
        "      num_return_sequences=3, # 3개의 응답 생성\n",
        "      no_repeat_ngram_size=2,  # 반복되는 n-gram 방지\n",
        "      temperature=0.7,  # 더 확정적인 출력을 위해 낮은 값 사용\n",
        "      top_p=0.9,        # nucleus sampling을 통해 확률 분포 조정\n",
        "      top_k=50,         # 상위 k개 토큰만 선택\n",
        "      pad_token_id=tokenizer.eos_token_id,  # EOS 토큰으로 패딩\n",
        "      early_stopping=True  # 답변이 끝날 때까지 기다리도록 설정\n",
        "  )\n",
        "\n",
        "  generated_text = [tokenizer.decode(output, skip_special_tokens=True) for output in outputs]\n",
        "\n",
        "  # 출력된 3개의 응답\n",
        "  for i, response in enumerate(generated_text):\n",
        "    print(f\"Response {i+1}: {response}\")\n",
        "    print('-'*100)\n",
        "\n",
        "  rank_scores = []\n",
        "  for response in generated_text:\n",
        "      input_ids = tokenizer(f\"{input_text} {response}\", return_tensors=\"pt\", padding=True, truncation=True).input_ids.to(device)\n",
        "      attention_mask = tokenizer(f\"{input_text} {response}\", return_tensors=\"pt\", padding=True, truncation=True).attention_mask.to(device)\n",
        "\n",
        "      with torch.no_grad():\n",
        "          score = rank_model(input_ids=input_ids, attention_mask=attention_mask)\n",
        "          rank_scores.append(score.item())\n",
        "\n",
        "  # 점수에 따라 답변 정렬\n",
        "  ranked_responses = sorted(zip(generated_text, rank_scores), key=lambda x: x[1], reverse=True)\n",
        "\n",
        "  # 최적의 답변 출력\n",
        "  best_response = ranked_responses[0][0]\n",
        "  print(\"Best Response:\", best_response)\n",
        "\n",
        "  return ranked_responses, best_response"
      ],
      "metadata": {
        "id": "ZVd0phiBOcVw"
      },
      "execution_count": null,
      "outputs": []
    },
    {
      "cell_type": "code",
      "source": [
        "checkpoint_path = './drive/MyDrive/멋사/챗봇프로젝트/RMmodel_checkpoint.pt'\n",
        "model = RewardModel('./drive/MyDrive/멋사/챗봇프로젝트/QAmodel50epochs').to(device)\n",
        "optimizer = torch.optim.AdamW(model.parameters(), lr=5e-5)\n",
        "\n",
        "# 체크포인트 로드 (학습 상태 복원 필요 없음)\n",
        "_, _ = load_checkpoint(checkpoint_path, model, optimizer)"
      ],
      "metadata": {
        "colab": {
          "base_uri": "https://localhost:8080/"
        },
        "id": "CquMCgSlPgQr",
        "outputId": "69eaaf54-1f3d-4d04-a619-379fa6951a67"
      },
      "execution_count": null,
      "outputs": [
        {
          "output_type": "stream",
          "name": "stderr",
          "text": [
            "<ipython-input-24-cbc36f05de00>:15: FutureWarning: You are using `torch.load` with `weights_only=False` (the current default value), which uses the default pickle module implicitly. It is possible to construct malicious pickle data which will execute arbitrary code during unpickling (See https://github.com/pytorch/pytorch/blob/main/SECURITY.md#untrusted-models for more details). In a future release, the default value for `weights_only` will be flipped to `True`. This limits the functions that could be executed during unpickling. Arbitrary objects will no longer be allowed to be loaded via this mode unless they are explicitly allowlisted by the user via `torch.serialization.add_safe_globals`. We recommend you start setting `weights_only=True` for any use case where you don't have full control of the loaded file. Please open an issue on GitHub for any issues related to this experimental feature.\n",
            "  checkpoint = torch.load(path)\n"
          ]
        },
        {
          "output_type": "stream",
          "name": "stdout",
          "text": [
            "Checkpoint loaded. Resuming from epoch 10, loss: 1.7776841481165588\n"
          ]
        }
      ]
    },
    {
      "cell_type": "code",
      "source": [
        "ranked, best = generate_answer(model2, model, tokenizer2, testQA_df)"
      ],
      "metadata": {
        "colab": {
          "base_uri": "https://localhost:8080/"
        },
        "id": "QUQ0iN6nA9zV",
        "outputId": "d03e8af5-2c1d-491c-a61f-e76c2ed92da7"
      },
      "execution_count": null,
      "outputs": [
        {
          "output_type": "stream",
          "name": "stdout",
          "text": [
            "에너지 효율적인 시스템과 장비는 어떻게 설치되고 관리되는가?\n"
          ]
        },
        {
          "output_type": "stream",
          "name": "stderr",
          "text": [
            "/usr/local/lib/python3.10/dist-packages/transformers/generation/configuration_utils.py:638: UserWarning: `num_beams` is set to 1. However, `early_stopping` is set to `True` -- this flag is only used in beam-based generation modes. You should set `num_beams>1` or unset `early_stopping`.\n",
            "  warnings.warn(\n",
            "Asking to truncate to max_length but no maximum length is provided and the model has no predefined maximum length. Default to no truncation.\n"
          ]
        },
        {
          "output_type": "stream",
          "name": "stdout",
          "text": [
            "Response 1: 에너지 효율적인 시스템과 장비는 어떻게 설치되고 관리되는가? 답변: 효율적인 시스템을 구축하고 유지하기 위해 다음과 같은 단계를 따를 수 있습니다:\n",
            "\n",
            "1. 목표 설정: 시스템의 목표를 설정하고 해당 목표를 달성하기 위한 방법을 정의합니다. 예를 들어, 일정 기간마다 자동으로 시스템을 안정화시키거나 자동으로 작업을 수행할 수 있는 기능을 포함할 수 있습니다.\n",
            "\n",
            "2. 자원 할당: 시스템에 필요한 자원을 할당합니다. 이는 시스템에서 사용되는 장비, 소프트웨어, 네트워크 등을 포함합니다. 가능한 한 많은 자원을 사용하여 시스템을 관리할 수 있도록 합니다.\n",
            "\n",
            "3. 구성 및 조정: 자원의 할당과 기능을 조정하여 자원의 효율적인 활용을 도모합니다. 이를 위해 자원을 재할당, 프로그램 또는 프로세스 조정 등의 방법을\n",
            "----------------------------------------------------------------------------------------------------\n",
            "Response 2: 에너지 효율적인 시스템과 장비는 어떻게 설치되고 관리되는가? 답변: 효율적인 시스템을 구축하고 유지하기 위해서는 다음과 같은 절차를 따를 수 있습니다:\n",
            "\n",
            "1. 계획: 시스템의 목표와 범위를 설정하고, 필요한 도구와 자원을 할당합니다. 또한, 시스템의 성능을 모니터링하고 최적화하는 단계도 포함됩니다.\n",
            "\n",
            "2. 설계: 설계된 시스템의 초기 버전을 바탕으로 제품의 기능과 성능을 평가합니다. 이 단계에서는 시스템 구성 요소, 구성 요소 및 리소스, 하드웨어 등을 결정합니다.\n",
            "\n",
            "3. 자원 할당: 필요한 모든 도구와 장비를 설치합니다. 예를 들어, 컴퓨터, 소프트웨어, 네트워크 장비 등이 필요할 수 있습니다.\n",
            "\n",
            "4. 설치: 설치된 시스템을 실제로 건설합니다. 실제 시스템에서는 회로\n",
            "----------------------------------------------------------------------------------------------------\n",
            "Response 3: 에너지 효율적인 시스템과 장비는 어떻게 설치되고 관리되는가? 답변: 효율적인 시스템은 시스템이 효율적으로 작동하고 장비를 사용함으로써 자원을 효율적으로 사용할 수 있도록 하는 것을 의미합니다. 아래는 시스템의 효율적인 시스템을 유지하고 관리하기 위한 몇 가지 고려 사항입니다:\n",
            "\n",
            "1. 자원 관리: 시스템의 자원을 효과적으로 관리하고 필요한 자원과 기술을 할당합니다. 예를 들어, 에너지를 효율적으로 사용하고 재생에너지를 활용하여 화석 연료 사용을 줄입니다. 이를 위해 자원의 할당과 배출량을 관리합니다.\n",
            "\n",
            "2. 프로세스 관리 : 시스템의 성능을 모니터링하고 최적화하는 단계입니다. 예를 들어 장애 발생 시 개선 및 보완을 위한 프로세스를 수립하고 관리합니다. 또한 장애 복구 및 새로운 기능의 도입을 검토합니다.\n",
            " \n",
            "\n",
            "----------------------------------------------------------------------------------------------------\n",
            "Best Response: 에너지 효율적인 시스템과 장비는 어떻게 설치되고 관리되는가? 답변: 효율적인 시스템을 구축하고 유지하기 위해 다음과 같은 단계를 따를 수 있습니다:\n",
            "\n",
            "1. 목표 설정: 시스템의 목표를 설정하고 해당 목표를 달성하기 위한 방법을 정의합니다. 예를 들어, 일정 기간마다 자동으로 시스템을 안정화시키거나 자동으로 작업을 수행할 수 있는 기능을 포함할 수 있습니다.\n",
            "\n",
            "2. 자원 할당: 시스템에 필요한 자원을 할당합니다. 이는 시스템에서 사용되는 장비, 소프트웨어, 네트워크 등을 포함합니다. 가능한 한 많은 자원을 사용하여 시스템을 관리할 수 있도록 합니다.\n",
            "\n",
            "3. 구성 및 조정: 자원의 할당과 기능을 조정하여 자원의 효율적인 활용을 도모합니다. 이를 위해 자원을 재할당, 프로그램 또는 프로세스 조정 등의 방법을\n"
          ]
        }
      ]
    },
    {
      "cell_type": "code",
      "source": [
        "ranked"
      ],
      "metadata": {
        "colab": {
          "base_uri": "https://localhost:8080/"
        },
        "id": "TsKWSfvGS9Q8",
        "outputId": "5bc79a70-5213-45f7-a17a-bd1135c1d4d2"
      },
      "execution_count": null,
      "outputs": [
        {
          "output_type": "execute_result",
          "data": {
            "text/plain": [
              "[('꽃의 모양이 곤충과의 상호작용에 어떤 영향을 미치는지 설명하시오. 답변: 곤충과 곤충은 서로 다른 종들로, 그들이 상호작용하는 여러 가지 방식이 있습니다. 이러한 상호작용은 곤충에 대한 다음과 같은 영향을 줄 수 있습니다:\\n\\n1. 교란: 곤충은 곤충에게 교란을 일으킬 수 있습니다. 이는 꽃의 교배나 씨앗 재배 등을 통해 전파될 수 있으며, 곤충들이 다른 꽃이나 식물의 씨앗을 먹거나 꽃의 씨앗이 다른 곳으로 씨앗기를 할 때 발생할 수 있습니다.\\n\\n2. 산란: 곤충이 곤충들에게 알을 낳으면 산란에 참여합니다. 곤충은 알을 다른 꽃의 성대에 전달하여 꽃의 교배를 도와줍니다. 이렇게 함으로써 곤충들은 꽃의 영양 공급',\n",
              "  0.20738184452056885),\n",
              " ('꽃의 모양이 곤충과의 상호작용에 어떤 영향을 미치는지 설명하시오. 답변: 곤충과 곤충은 서로 다른 종 간 상호작용에서 중요한 역할을 수행합니다.\\n\\n1. 곤충에 의한 먹이 제공: 많은 곤충은 곤충인 Bioperyron과 같은 작은 곤충을 먹습니다. 이들은 작은 곤충들이나 크기가 작은 벌레, 나비와 같은 곤충들을 먹음으로써 생존합니다.\\n도\\n2. 곤충 사이의 상호작용: 곤충은 다른 곤충들과 상호작용할 수 있습니다. 예를 들어, 곤충은 꽃의 꿀을 먹은 꿀벌과 상호 작용하여 꽃의 꽃가루를 다른 꽃으로 옮기거나 꽃의 교배를 도웁니다. 이러한 상호작용은 곤충들이 다른 꽃의 성분과 상호작용을 통해 곤충들에게 꽃가루를 옮겨줄',\n",
              "  0.20738184452056885),\n",
              " ('꽃의 모양이 곤충과의 상호작용에 어떤 영향을 미치는지 설명하시오. 답변: 곤충과 곤충은 서로 다른 행동 패턴을 가지고 있습니다. 이러한 상호작용은 곤충에 의해 나타나며, 다양한 형태로 나타날 수 있습니다.\\n\\n1. 날개: 곤충의 날개는 비행에 필요한 힘을 갖고 있습니다. 날개에는 근육이 있어 비행기를 움직이거나 이동시키는 역할을 합니다. 또한 날개에 있는 작은 근육은 비행 중에 곤충을 잡아내는 역할을 합니다.\\n\\n2. 부리: 부리는 곤충에게 먹이를 제공하는 역할을 할 수 있습니다. 부리는 작은 물고기를 잡아먹거나 처리하는 데 사용되며, 곤충이 다른 물고기와 상호작용하여 영양소를 얻는 역할을 수행할 수 있게 합니다.\\n \\n\\n3. 알로 번식: 곤충은 알을 낳는 역할을 하며, 알을 통해 번식',\n",
              "  0.20738184452056885)]"
            ]
          },
          "metadata": {},
          "execution_count": 122
        }
      ]
    },
    {
      "cell_type": "markdown",
      "source": [
        "## PPO (Proximal Policy Optimization)"
      ],
      "metadata": {
        "id": "pcy5KWbDVtBV"
      }
    },
    {
      "cell_type": "code",
      "source": [
        "class PPODataset(Dataset):\n",
        "    def __init__(self, df, tokenizer, max_length=512):\n",
        "        self.df = df\n",
        "        self.tokenizer = tokenizer\n",
        "        self.max_length = max_length\n",
        "\n",
        "    def __len__(self):\n",
        "        return len(self.df)\n",
        "\n",
        "    def __getitem__(self, idx):\n",
        "        question = self.df.iloc[idx]['question']\n",
        "        input_text = f\"Question: {question}\"\n",
        "        # 토크나이징 후 텐서로 변환\n",
        "        encoding = self.tokenizer(input_text, truncation=True, padding='max_length', max_length=self.max_length, return_tensors='pt')\n",
        "        return encoding"
      ],
      "metadata": {
        "id": "GEuSd3X4g3-Z"
      },
      "execution_count": null,
      "outputs": []
    },
    {
      "cell_type": "code",
      "source": [
        "PPOdataset = PPODataset(PPOdf, tokenizer)"
      ],
      "metadata": {
        "id": "fn3fq3EMhZ-2"
      },
      "execution_count": null,
      "outputs": []
    },
    {
      "cell_type": "code",
      "source": [
        "QAmodel = GPT2LMHeadModel.from_pretrained('./drive/MyDrive/멋사/챗봇프로젝트/QAmodel50epochs')\n",
        "tokenizer = PreTrainedTokenizerFast.from_pretrained('./drive/MyDrive/멋사/챗봇프로젝트/QAmodel50epochs')"
      ],
      "metadata": {
        "id": "hfYWixsPghQa"
      },
      "execution_count": null,
      "outputs": []
    },
    {
      "cell_type": "code",
      "source": [
        "Remodel = RewardModel('./drive/MyDrive/멋사/챗봇프로젝트/RMmodel').to(device)"
      ],
      "metadata": {
        "id": "nRbx1ACbWLzm"
      },
      "execution_count": null,
      "outputs": []
    },
    {
      "cell_type": "code",
      "source": [
        "ppo_config = PPOConfig(batch_size=16, forward_batch_size=4, ppo_epochs=4)\n",
        "ppo_trainer = PPOTrainer(policy_model, reward_model, tokenizer, config=ppo_config)\n",
        "\n",
        "# PPO 학습 루프\n",
        "for epoch in range(num_epochs):\n",
        "    for question in dataset:\n",
        "        query_tensors = tokenizer(question, return_tensors=\"pt\").input_ids\n",
        "        response_tensors = policy_model.generate(query_tensors)\n",
        "\n",
        "        # 리워드 계산\n",
        "        rewards = reward_model(input_ids=response_tensors)\n",
        "\n",
        "        # PPO 업데이트\n",
        "        ppo_trainer.step(query_tensors, response_tensors, rewards)"
      ],
      "metadata": {
        "id": "4WlHrq_oTGRy"
      },
      "execution_count": null,
      "outputs": []
    }
  ],
  "metadata": {
    "colab": {
      "provenance": [],
      "machine_shape": "hm",
      "gpuType": "L4",
      "collapsed_sections": [
        "sEqjCjRcteI9",
        "mYNXzoZB28_4",
        "aZ_hrnCjOZ_Y"
      ]
    },
    "kernelspec": {
      "display_name": "Python 3",
      "name": "python3"
    },
    "language_info": {
      "name": "python"
    },
    "accelerator": "GPU",
    "widgets": {
      "application/vnd.jupyter.widget-state+json": {
        "98f8c7b7ed344ed48ba72007ad34e787": {
          "model_module": "@jupyter-widgets/controls",
          "model_name": "HBoxModel",
          "model_module_version": "1.5.0",
          "state": {
            "_dom_classes": [],
            "_model_module": "@jupyter-widgets/controls",
            "_model_module_version": "1.5.0",
            "_model_name": "HBoxModel",
            "_view_count": null,
            "_view_module": "@jupyter-widgets/controls",
            "_view_module_version": "1.5.0",
            "_view_name": "HBoxView",
            "box_style": "",
            "children": [
              "IPY_MODEL_448f843db6964575aabaa954ed198016",
              "IPY_MODEL_f27bfad279704e538239c6a8d1717ee4",
              "IPY_MODEL_633c8410975f4fce88d95a285a0e6cd1"
            ],
            "layout": "IPY_MODEL_415d382d29d64e1d96032c4519873dbe"
          }
        },
        "448f843db6964575aabaa954ed198016": {
          "model_module": "@jupyter-widgets/controls",
          "model_name": "HTMLModel",
          "model_module_version": "1.5.0",
          "state": {
            "_dom_classes": [],
            "_model_module": "@jupyter-widgets/controls",
            "_model_module_version": "1.5.0",
            "_model_name": "HTMLModel",
            "_view_count": null,
            "_view_module": "@jupyter-widgets/controls",
            "_view_module_version": "1.5.0",
            "_view_name": "HTMLView",
            "description": "",
            "description_tooltip": null,
            "layout": "IPY_MODEL_4c0673192ba24f52a6182f3a2e16378e",
            "placeholder": "​",
            "style": "IPY_MODEL_f034d86dcce64b9fadc8ec6bd7332098",
            "value": "tokenizer.json: 100%"
          }
        },
        "f27bfad279704e538239c6a8d1717ee4": {
          "model_module": "@jupyter-widgets/controls",
          "model_name": "FloatProgressModel",
          "model_module_version": "1.5.0",
          "state": {
            "_dom_classes": [],
            "_model_module": "@jupyter-widgets/controls",
            "_model_module_version": "1.5.0",
            "_model_name": "FloatProgressModel",
            "_view_count": null,
            "_view_module": "@jupyter-widgets/controls",
            "_view_module_version": "1.5.0",
            "_view_name": "ProgressView",
            "bar_style": "success",
            "description": "",
            "description_tooltip": null,
            "layout": "IPY_MODEL_d17010db99044678b853c724a28a04ca",
            "max": 2825034,
            "min": 0,
            "orientation": "horizontal",
            "style": "IPY_MODEL_1522a56072344db297c3d5d3068305fc",
            "value": 2825034
          }
        },
        "633c8410975f4fce88d95a285a0e6cd1": {
          "model_module": "@jupyter-widgets/controls",
          "model_name": "HTMLModel",
          "model_module_version": "1.5.0",
          "state": {
            "_dom_classes": [],
            "_model_module": "@jupyter-widgets/controls",
            "_model_module_version": "1.5.0",
            "_model_name": "HTMLModel",
            "_view_count": null,
            "_view_module": "@jupyter-widgets/controls",
            "_view_module_version": "1.5.0",
            "_view_name": "HTMLView",
            "description": "",
            "description_tooltip": null,
            "layout": "IPY_MODEL_e7b67bd41e2846d28144c4590e62fb16",
            "placeholder": "​",
            "style": "IPY_MODEL_34ba971487fc42eba53b18c5bbd66a7c",
            "value": " 2.83M/2.83M [00:00&lt;00:00, 6.11MB/s]"
          }
        },
        "415d382d29d64e1d96032c4519873dbe": {
          "model_module": "@jupyter-widgets/base",
          "model_name": "LayoutModel",
          "model_module_version": "1.2.0",
          "state": {
            "_model_module": "@jupyter-widgets/base",
            "_model_module_version": "1.2.0",
            "_model_name": "LayoutModel",
            "_view_count": null,
            "_view_module": "@jupyter-widgets/base",
            "_view_module_version": "1.2.0",
            "_view_name": "LayoutView",
            "align_content": null,
            "align_items": null,
            "align_self": null,
            "border": null,
            "bottom": null,
            "display": null,
            "flex": null,
            "flex_flow": null,
            "grid_area": null,
            "grid_auto_columns": null,
            "grid_auto_flow": null,
            "grid_auto_rows": null,
            "grid_column": null,
            "grid_gap": null,
            "grid_row": null,
            "grid_template_areas": null,
            "grid_template_columns": null,
            "grid_template_rows": null,
            "height": null,
            "justify_content": null,
            "justify_items": null,
            "left": null,
            "margin": null,
            "max_height": null,
            "max_width": null,
            "min_height": null,
            "min_width": null,
            "object_fit": null,
            "object_position": null,
            "order": null,
            "overflow": null,
            "overflow_x": null,
            "overflow_y": null,
            "padding": null,
            "right": null,
            "top": null,
            "visibility": null,
            "width": null
          }
        },
        "4c0673192ba24f52a6182f3a2e16378e": {
          "model_module": "@jupyter-widgets/base",
          "model_name": "LayoutModel",
          "model_module_version": "1.2.0",
          "state": {
            "_model_module": "@jupyter-widgets/base",
            "_model_module_version": "1.2.0",
            "_model_name": "LayoutModel",
            "_view_count": null,
            "_view_module": "@jupyter-widgets/base",
            "_view_module_version": "1.2.0",
            "_view_name": "LayoutView",
            "align_content": null,
            "align_items": null,
            "align_self": null,
            "border": null,
            "bottom": null,
            "display": null,
            "flex": null,
            "flex_flow": null,
            "grid_area": null,
            "grid_auto_columns": null,
            "grid_auto_flow": null,
            "grid_auto_rows": null,
            "grid_column": null,
            "grid_gap": null,
            "grid_row": null,
            "grid_template_areas": null,
            "grid_template_columns": null,
            "grid_template_rows": null,
            "height": null,
            "justify_content": null,
            "justify_items": null,
            "left": null,
            "margin": null,
            "max_height": null,
            "max_width": null,
            "min_height": null,
            "min_width": null,
            "object_fit": null,
            "object_position": null,
            "order": null,
            "overflow": null,
            "overflow_x": null,
            "overflow_y": null,
            "padding": null,
            "right": null,
            "top": null,
            "visibility": null,
            "width": null
          }
        },
        "f034d86dcce64b9fadc8ec6bd7332098": {
          "model_module": "@jupyter-widgets/controls",
          "model_name": "DescriptionStyleModel",
          "model_module_version": "1.5.0",
          "state": {
            "_model_module": "@jupyter-widgets/controls",
            "_model_module_version": "1.5.0",
            "_model_name": "DescriptionStyleModel",
            "_view_count": null,
            "_view_module": "@jupyter-widgets/base",
            "_view_module_version": "1.2.0",
            "_view_name": "StyleView",
            "description_width": ""
          }
        },
        "d17010db99044678b853c724a28a04ca": {
          "model_module": "@jupyter-widgets/base",
          "model_name": "LayoutModel",
          "model_module_version": "1.2.0",
          "state": {
            "_model_module": "@jupyter-widgets/base",
            "_model_module_version": "1.2.0",
            "_model_name": "LayoutModel",
            "_view_count": null,
            "_view_module": "@jupyter-widgets/base",
            "_view_module_version": "1.2.0",
            "_view_name": "LayoutView",
            "align_content": null,
            "align_items": null,
            "align_self": null,
            "border": null,
            "bottom": null,
            "display": null,
            "flex": null,
            "flex_flow": null,
            "grid_area": null,
            "grid_auto_columns": null,
            "grid_auto_flow": null,
            "grid_auto_rows": null,
            "grid_column": null,
            "grid_gap": null,
            "grid_row": null,
            "grid_template_areas": null,
            "grid_template_columns": null,
            "grid_template_rows": null,
            "height": null,
            "justify_content": null,
            "justify_items": null,
            "left": null,
            "margin": null,
            "max_height": null,
            "max_width": null,
            "min_height": null,
            "min_width": null,
            "object_fit": null,
            "object_position": null,
            "order": null,
            "overflow": null,
            "overflow_x": null,
            "overflow_y": null,
            "padding": null,
            "right": null,
            "top": null,
            "visibility": null,
            "width": null
          }
        },
        "1522a56072344db297c3d5d3068305fc": {
          "model_module": "@jupyter-widgets/controls",
          "model_name": "ProgressStyleModel",
          "model_module_version": "1.5.0",
          "state": {
            "_model_module": "@jupyter-widgets/controls",
            "_model_module_version": "1.5.0",
            "_model_name": "ProgressStyleModel",
            "_view_count": null,
            "_view_module": "@jupyter-widgets/base",
            "_view_module_version": "1.2.0",
            "_view_name": "StyleView",
            "bar_color": null,
            "description_width": ""
          }
        },
        "e7b67bd41e2846d28144c4590e62fb16": {
          "model_module": "@jupyter-widgets/base",
          "model_name": "LayoutModel",
          "model_module_version": "1.2.0",
          "state": {
            "_model_module": "@jupyter-widgets/base",
            "_model_module_version": "1.2.0",
            "_model_name": "LayoutModel",
            "_view_count": null,
            "_view_module": "@jupyter-widgets/base",
            "_view_module_version": "1.2.0",
            "_view_name": "LayoutView",
            "align_content": null,
            "align_items": null,
            "align_self": null,
            "border": null,
            "bottom": null,
            "display": null,
            "flex": null,
            "flex_flow": null,
            "grid_area": null,
            "grid_auto_columns": null,
            "grid_auto_flow": null,
            "grid_auto_rows": null,
            "grid_column": null,
            "grid_gap": null,
            "grid_row": null,
            "grid_template_areas": null,
            "grid_template_columns": null,
            "grid_template_rows": null,
            "height": null,
            "justify_content": null,
            "justify_items": null,
            "left": null,
            "margin": null,
            "max_height": null,
            "max_width": null,
            "min_height": null,
            "min_width": null,
            "object_fit": null,
            "object_position": null,
            "order": null,
            "overflow": null,
            "overflow_x": null,
            "overflow_y": null,
            "padding": null,
            "right": null,
            "top": null,
            "visibility": null,
            "width": null
          }
        },
        "34ba971487fc42eba53b18c5bbd66a7c": {
          "model_module": "@jupyter-widgets/controls",
          "model_name": "DescriptionStyleModel",
          "model_module_version": "1.5.0",
          "state": {
            "_model_module": "@jupyter-widgets/controls",
            "_model_module_version": "1.5.0",
            "_model_name": "DescriptionStyleModel",
            "_view_count": null,
            "_view_module": "@jupyter-widgets/base",
            "_view_module_version": "1.2.0",
            "_view_name": "StyleView",
            "description_width": ""
          }
        },
        "3700e2d765474a5aacc702dcea6c392b": {
          "model_module": "@jupyter-widgets/controls",
          "model_name": "HBoxModel",
          "model_module_version": "1.5.0",
          "state": {
            "_dom_classes": [],
            "_model_module": "@jupyter-widgets/controls",
            "_model_module_version": "1.5.0",
            "_model_name": "HBoxModel",
            "_view_count": null,
            "_view_module": "@jupyter-widgets/controls",
            "_view_module_version": "1.5.0",
            "_view_name": "HBoxView",
            "box_style": "",
            "children": [
              "IPY_MODEL_9b5e80081015411bb442acaac818a48a",
              "IPY_MODEL_c18ac187f29e458eb744836f61e85e31",
              "IPY_MODEL_ab8327a396ef410da2360ee825da888c"
            ],
            "layout": "IPY_MODEL_1e4a0d88287847abb639540b379d8488"
          }
        },
        "9b5e80081015411bb442acaac818a48a": {
          "model_module": "@jupyter-widgets/controls",
          "model_name": "HTMLModel",
          "model_module_version": "1.5.0",
          "state": {
            "_dom_classes": [],
            "_model_module": "@jupyter-widgets/controls",
            "_model_module_version": "1.5.0",
            "_model_name": "HTMLModel",
            "_view_count": null,
            "_view_module": "@jupyter-widgets/controls",
            "_view_module_version": "1.5.0",
            "_view_name": "HTMLView",
            "description": "",
            "description_tooltip": null,
            "layout": "IPY_MODEL_1b17ea1533b44b1abc32fec6ef56306f",
            "placeholder": "​",
            "style": "IPY_MODEL_ab672333778d4b5abd4b894d409b683c",
            "value": "config.json: 100%"
          }
        },
        "c18ac187f29e458eb744836f61e85e31": {
          "model_module": "@jupyter-widgets/controls",
          "model_name": "FloatProgressModel",
          "model_module_version": "1.5.0",
          "state": {
            "_dom_classes": [],
            "_model_module": "@jupyter-widgets/controls",
            "_model_module_version": "1.5.0",
            "_model_name": "FloatProgressModel",
            "_view_count": null,
            "_view_module": "@jupyter-widgets/controls",
            "_view_module_version": "1.5.0",
            "_view_name": "ProgressView",
            "bar_style": "success",
            "description": "",
            "description_tooltip": null,
            "layout": "IPY_MODEL_6c0a060dc9984810b1bca8ffdf2664f0",
            "max": 1000,
            "min": 0,
            "orientation": "horizontal",
            "style": "IPY_MODEL_ff9e3e0f76f4479eb561b539fc5c78d6",
            "value": 1000
          }
        },
        "ab8327a396ef410da2360ee825da888c": {
          "model_module": "@jupyter-widgets/controls",
          "model_name": "HTMLModel",
          "model_module_version": "1.5.0",
          "state": {
            "_dom_classes": [],
            "_model_module": "@jupyter-widgets/controls",
            "_model_module_version": "1.5.0",
            "_model_name": "HTMLModel",
            "_view_count": null,
            "_view_module": "@jupyter-widgets/controls",
            "_view_module_version": "1.5.0",
            "_view_name": "HTMLView",
            "description": "",
            "description_tooltip": null,
            "layout": "IPY_MODEL_36c9898e47c04003a386f3ba0cf09617",
            "placeholder": "​",
            "style": "IPY_MODEL_79290702ec5841e4a4e7b6a4e2629d84",
            "value": " 1.00k/1.00k [00:00&lt;00:00, 81.4kB/s]"
          }
        },
        "1e4a0d88287847abb639540b379d8488": {
          "model_module": "@jupyter-widgets/base",
          "model_name": "LayoutModel",
          "model_module_version": "1.2.0",
          "state": {
            "_model_module": "@jupyter-widgets/base",
            "_model_module_version": "1.2.0",
            "_model_name": "LayoutModel",
            "_view_count": null,
            "_view_module": "@jupyter-widgets/base",
            "_view_module_version": "1.2.0",
            "_view_name": "LayoutView",
            "align_content": null,
            "align_items": null,
            "align_self": null,
            "border": null,
            "bottom": null,
            "display": null,
            "flex": null,
            "flex_flow": null,
            "grid_area": null,
            "grid_auto_columns": null,
            "grid_auto_flow": null,
            "grid_auto_rows": null,
            "grid_column": null,
            "grid_gap": null,
            "grid_row": null,
            "grid_template_areas": null,
            "grid_template_columns": null,
            "grid_template_rows": null,
            "height": null,
            "justify_content": null,
            "justify_items": null,
            "left": null,
            "margin": null,
            "max_height": null,
            "max_width": null,
            "min_height": null,
            "min_width": null,
            "object_fit": null,
            "object_position": null,
            "order": null,
            "overflow": null,
            "overflow_x": null,
            "overflow_y": null,
            "padding": null,
            "right": null,
            "top": null,
            "visibility": null,
            "width": null
          }
        },
        "1b17ea1533b44b1abc32fec6ef56306f": {
          "model_module": "@jupyter-widgets/base",
          "model_name": "LayoutModel",
          "model_module_version": "1.2.0",
          "state": {
            "_model_module": "@jupyter-widgets/base",
            "_model_module_version": "1.2.0",
            "_model_name": "LayoutModel",
            "_view_count": null,
            "_view_module": "@jupyter-widgets/base",
            "_view_module_version": "1.2.0",
            "_view_name": "LayoutView",
            "align_content": null,
            "align_items": null,
            "align_self": null,
            "border": null,
            "bottom": null,
            "display": null,
            "flex": null,
            "flex_flow": null,
            "grid_area": null,
            "grid_auto_columns": null,
            "grid_auto_flow": null,
            "grid_auto_rows": null,
            "grid_column": null,
            "grid_gap": null,
            "grid_row": null,
            "grid_template_areas": null,
            "grid_template_columns": null,
            "grid_template_rows": null,
            "height": null,
            "justify_content": null,
            "justify_items": null,
            "left": null,
            "margin": null,
            "max_height": null,
            "max_width": null,
            "min_height": null,
            "min_width": null,
            "object_fit": null,
            "object_position": null,
            "order": null,
            "overflow": null,
            "overflow_x": null,
            "overflow_y": null,
            "padding": null,
            "right": null,
            "top": null,
            "visibility": null,
            "width": null
          }
        },
        "ab672333778d4b5abd4b894d409b683c": {
          "model_module": "@jupyter-widgets/controls",
          "model_name": "DescriptionStyleModel",
          "model_module_version": "1.5.0",
          "state": {
            "_model_module": "@jupyter-widgets/controls",
            "_model_module_version": "1.5.0",
            "_model_name": "DescriptionStyleModel",
            "_view_count": null,
            "_view_module": "@jupyter-widgets/base",
            "_view_module_version": "1.2.0",
            "_view_name": "StyleView",
            "description_width": ""
          }
        },
        "6c0a060dc9984810b1bca8ffdf2664f0": {
          "model_module": "@jupyter-widgets/base",
          "model_name": "LayoutModel",
          "model_module_version": "1.2.0",
          "state": {
            "_model_module": "@jupyter-widgets/base",
            "_model_module_version": "1.2.0",
            "_model_name": "LayoutModel",
            "_view_count": null,
            "_view_module": "@jupyter-widgets/base",
            "_view_module_version": "1.2.0",
            "_view_name": "LayoutView",
            "align_content": null,
            "align_items": null,
            "align_self": null,
            "border": null,
            "bottom": null,
            "display": null,
            "flex": null,
            "flex_flow": null,
            "grid_area": null,
            "grid_auto_columns": null,
            "grid_auto_flow": null,
            "grid_auto_rows": null,
            "grid_column": null,
            "grid_gap": null,
            "grid_row": null,
            "grid_template_areas": null,
            "grid_template_columns": null,
            "grid_template_rows": null,
            "height": null,
            "justify_content": null,
            "justify_items": null,
            "left": null,
            "margin": null,
            "max_height": null,
            "max_width": null,
            "min_height": null,
            "min_width": null,
            "object_fit": null,
            "object_position": null,
            "order": null,
            "overflow": null,
            "overflow_x": null,
            "overflow_y": null,
            "padding": null,
            "right": null,
            "top": null,
            "visibility": null,
            "width": null
          }
        },
        "ff9e3e0f76f4479eb561b539fc5c78d6": {
          "model_module": "@jupyter-widgets/controls",
          "model_name": "ProgressStyleModel",
          "model_module_version": "1.5.0",
          "state": {
            "_model_module": "@jupyter-widgets/controls",
            "_model_module_version": "1.5.0",
            "_model_name": "ProgressStyleModel",
            "_view_count": null,
            "_view_module": "@jupyter-widgets/base",
            "_view_module_version": "1.2.0",
            "_view_name": "StyleView",
            "bar_color": null,
            "description_width": ""
          }
        },
        "36c9898e47c04003a386f3ba0cf09617": {
          "model_module": "@jupyter-widgets/base",
          "model_name": "LayoutModel",
          "model_module_version": "1.2.0",
          "state": {
            "_model_module": "@jupyter-widgets/base",
            "_model_module_version": "1.2.0",
            "_model_name": "LayoutModel",
            "_view_count": null,
            "_view_module": "@jupyter-widgets/base",
            "_view_module_version": "1.2.0",
            "_view_name": "LayoutView",
            "align_content": null,
            "align_items": null,
            "align_self": null,
            "border": null,
            "bottom": null,
            "display": null,
            "flex": null,
            "flex_flow": null,
            "grid_area": null,
            "grid_auto_columns": null,
            "grid_auto_flow": null,
            "grid_auto_rows": null,
            "grid_column": null,
            "grid_gap": null,
            "grid_row": null,
            "grid_template_areas": null,
            "grid_template_columns": null,
            "grid_template_rows": null,
            "height": null,
            "justify_content": null,
            "justify_items": null,
            "left": null,
            "margin": null,
            "max_height": null,
            "max_width": null,
            "min_height": null,
            "min_width": null,
            "object_fit": null,
            "object_position": null,
            "order": null,
            "overflow": null,
            "overflow_x": null,
            "overflow_y": null,
            "padding": null,
            "right": null,
            "top": null,
            "visibility": null,
            "width": null
          }
        },
        "79290702ec5841e4a4e7b6a4e2629d84": {
          "model_module": "@jupyter-widgets/controls",
          "model_name": "DescriptionStyleModel",
          "model_module_version": "1.5.0",
          "state": {
            "_model_module": "@jupyter-widgets/controls",
            "_model_module_version": "1.5.0",
            "_model_name": "DescriptionStyleModel",
            "_view_count": null,
            "_view_module": "@jupyter-widgets/base",
            "_view_module_version": "1.2.0",
            "_view_name": "StyleView",
            "description_width": ""
          }
        },
        "48f5fe583798495092b50f5060ea5d22": {
          "model_module": "@jupyter-widgets/controls",
          "model_name": "HBoxModel",
          "model_module_version": "1.5.0",
          "state": {
            "_dom_classes": [],
            "_model_module": "@jupyter-widgets/controls",
            "_model_module_version": "1.5.0",
            "_model_name": "HBoxModel",
            "_view_count": null,
            "_view_module": "@jupyter-widgets/controls",
            "_view_module_version": "1.5.0",
            "_view_name": "HBoxView",
            "box_style": "",
            "children": [
              "IPY_MODEL_4a981d3b9722434b8c6e2167dbb10050",
              "IPY_MODEL_9ef22aeb1fba44e88054dec582a1a850",
              "IPY_MODEL_ae22352198e14477bde21a30ffff3c72"
            ],
            "layout": "IPY_MODEL_09d099ad6dc749b59e0510dcc38b664d"
          }
        },
        "4a981d3b9722434b8c6e2167dbb10050": {
          "model_module": "@jupyter-widgets/controls",
          "model_name": "HTMLModel",
          "model_module_version": "1.5.0",
          "state": {
            "_dom_classes": [],
            "_model_module": "@jupyter-widgets/controls",
            "_model_module_version": "1.5.0",
            "_model_name": "HTMLModel",
            "_view_count": null,
            "_view_module": "@jupyter-widgets/controls",
            "_view_module_version": "1.5.0",
            "_view_name": "HTMLView",
            "description": "",
            "description_tooltip": null,
            "layout": "IPY_MODEL_245f4918bae644418346865610de96c8",
            "placeholder": "​",
            "style": "IPY_MODEL_0e30bc67615c4867b91da105448cf34a",
            "value": "pytorch_model.bin: 100%"
          }
        },
        "9ef22aeb1fba44e88054dec582a1a850": {
          "model_module": "@jupyter-widgets/controls",
          "model_name": "FloatProgressModel",
          "model_module_version": "1.5.0",
          "state": {
            "_dom_classes": [],
            "_model_module": "@jupyter-widgets/controls",
            "_model_module_version": "1.5.0",
            "_model_name": "FloatProgressModel",
            "_view_count": null,
            "_view_module": "@jupyter-widgets/controls",
            "_view_module_version": "1.5.0",
            "_view_name": "ProgressView",
            "bar_style": "success",
            "description": "",
            "description_tooltip": null,
            "layout": "IPY_MODEL_c3047655987a405983aa087b4e3d9b42",
            "max": 513302779,
            "min": 0,
            "orientation": "horizontal",
            "style": "IPY_MODEL_3e92767aecfd4166b179e95080031718",
            "value": 513302779
          }
        },
        "ae22352198e14477bde21a30ffff3c72": {
          "model_module": "@jupyter-widgets/controls",
          "model_name": "HTMLModel",
          "model_module_version": "1.5.0",
          "state": {
            "_dom_classes": [],
            "_model_module": "@jupyter-widgets/controls",
            "_model_module_version": "1.5.0",
            "_model_name": "HTMLModel",
            "_view_count": null,
            "_view_module": "@jupyter-widgets/controls",
            "_view_module_version": "1.5.0",
            "_view_name": "HTMLView",
            "description": "",
            "description_tooltip": null,
            "layout": "IPY_MODEL_fcce5bcbf99741659b1734a5ad7c8aca",
            "placeholder": "​",
            "style": "IPY_MODEL_72ca2e9c37514ce0b3b1a7c1a6913222",
            "value": " 513M/513M [00:02&lt;00:00, 232MB/s]"
          }
        },
        "09d099ad6dc749b59e0510dcc38b664d": {
          "model_module": "@jupyter-widgets/base",
          "model_name": "LayoutModel",
          "model_module_version": "1.2.0",
          "state": {
            "_model_module": "@jupyter-widgets/base",
            "_model_module_version": "1.2.0",
            "_model_name": "LayoutModel",
            "_view_count": null,
            "_view_module": "@jupyter-widgets/base",
            "_view_module_version": "1.2.0",
            "_view_name": "LayoutView",
            "align_content": null,
            "align_items": null,
            "align_self": null,
            "border": null,
            "bottom": null,
            "display": null,
            "flex": null,
            "flex_flow": null,
            "grid_area": null,
            "grid_auto_columns": null,
            "grid_auto_flow": null,
            "grid_auto_rows": null,
            "grid_column": null,
            "grid_gap": null,
            "grid_row": null,
            "grid_template_areas": null,
            "grid_template_columns": null,
            "grid_template_rows": null,
            "height": null,
            "justify_content": null,
            "justify_items": null,
            "left": null,
            "margin": null,
            "max_height": null,
            "max_width": null,
            "min_height": null,
            "min_width": null,
            "object_fit": null,
            "object_position": null,
            "order": null,
            "overflow": null,
            "overflow_x": null,
            "overflow_y": null,
            "padding": null,
            "right": null,
            "top": null,
            "visibility": null,
            "width": null
          }
        },
        "245f4918bae644418346865610de96c8": {
          "model_module": "@jupyter-widgets/base",
          "model_name": "LayoutModel",
          "model_module_version": "1.2.0",
          "state": {
            "_model_module": "@jupyter-widgets/base",
            "_model_module_version": "1.2.0",
            "_model_name": "LayoutModel",
            "_view_count": null,
            "_view_module": "@jupyter-widgets/base",
            "_view_module_version": "1.2.0",
            "_view_name": "LayoutView",
            "align_content": null,
            "align_items": null,
            "align_self": null,
            "border": null,
            "bottom": null,
            "display": null,
            "flex": null,
            "flex_flow": null,
            "grid_area": null,
            "grid_auto_columns": null,
            "grid_auto_flow": null,
            "grid_auto_rows": null,
            "grid_column": null,
            "grid_gap": null,
            "grid_row": null,
            "grid_template_areas": null,
            "grid_template_columns": null,
            "grid_template_rows": null,
            "height": null,
            "justify_content": null,
            "justify_items": null,
            "left": null,
            "margin": null,
            "max_height": null,
            "max_width": null,
            "min_height": null,
            "min_width": null,
            "object_fit": null,
            "object_position": null,
            "order": null,
            "overflow": null,
            "overflow_x": null,
            "overflow_y": null,
            "padding": null,
            "right": null,
            "top": null,
            "visibility": null,
            "width": null
          }
        },
        "0e30bc67615c4867b91da105448cf34a": {
          "model_module": "@jupyter-widgets/controls",
          "model_name": "DescriptionStyleModel",
          "model_module_version": "1.5.0",
          "state": {
            "_model_module": "@jupyter-widgets/controls",
            "_model_module_version": "1.5.0",
            "_model_name": "DescriptionStyleModel",
            "_view_count": null,
            "_view_module": "@jupyter-widgets/base",
            "_view_module_version": "1.2.0",
            "_view_name": "StyleView",
            "description_width": ""
          }
        },
        "c3047655987a405983aa087b4e3d9b42": {
          "model_module": "@jupyter-widgets/base",
          "model_name": "LayoutModel",
          "model_module_version": "1.2.0",
          "state": {
            "_model_module": "@jupyter-widgets/base",
            "_model_module_version": "1.2.0",
            "_model_name": "LayoutModel",
            "_view_count": null,
            "_view_module": "@jupyter-widgets/base",
            "_view_module_version": "1.2.0",
            "_view_name": "LayoutView",
            "align_content": null,
            "align_items": null,
            "align_self": null,
            "border": null,
            "bottom": null,
            "display": null,
            "flex": null,
            "flex_flow": null,
            "grid_area": null,
            "grid_auto_columns": null,
            "grid_auto_flow": null,
            "grid_auto_rows": null,
            "grid_column": null,
            "grid_gap": null,
            "grid_row": null,
            "grid_template_areas": null,
            "grid_template_columns": null,
            "grid_template_rows": null,
            "height": null,
            "justify_content": null,
            "justify_items": null,
            "left": null,
            "margin": null,
            "max_height": null,
            "max_width": null,
            "min_height": null,
            "min_width": null,
            "object_fit": null,
            "object_position": null,
            "order": null,
            "overflow": null,
            "overflow_x": null,
            "overflow_y": null,
            "padding": null,
            "right": null,
            "top": null,
            "visibility": null,
            "width": null
          }
        },
        "3e92767aecfd4166b179e95080031718": {
          "model_module": "@jupyter-widgets/controls",
          "model_name": "ProgressStyleModel",
          "model_module_version": "1.5.0",
          "state": {
            "_model_module": "@jupyter-widgets/controls",
            "_model_module_version": "1.5.0",
            "_model_name": "ProgressStyleModel",
            "_view_count": null,
            "_view_module": "@jupyter-widgets/base",
            "_view_module_version": "1.2.0",
            "_view_name": "StyleView",
            "bar_color": null,
            "description_width": ""
          }
        },
        "fcce5bcbf99741659b1734a5ad7c8aca": {
          "model_module": "@jupyter-widgets/base",
          "model_name": "LayoutModel",
          "model_module_version": "1.2.0",
          "state": {
            "_model_module": "@jupyter-widgets/base",
            "_model_module_version": "1.2.0",
            "_model_name": "LayoutModel",
            "_view_count": null,
            "_view_module": "@jupyter-widgets/base",
            "_view_module_version": "1.2.0",
            "_view_name": "LayoutView",
            "align_content": null,
            "align_items": null,
            "align_self": null,
            "border": null,
            "bottom": null,
            "display": null,
            "flex": null,
            "flex_flow": null,
            "grid_area": null,
            "grid_auto_columns": null,
            "grid_auto_flow": null,
            "grid_auto_rows": null,
            "grid_column": null,
            "grid_gap": null,
            "grid_row": null,
            "grid_template_areas": null,
            "grid_template_columns": null,
            "grid_template_rows": null,
            "height": null,
            "justify_content": null,
            "justify_items": null,
            "left": null,
            "margin": null,
            "max_height": null,
            "max_width": null,
            "min_height": null,
            "min_width": null,
            "object_fit": null,
            "object_position": null,
            "order": null,
            "overflow": null,
            "overflow_x": null,
            "overflow_y": null,
            "padding": null,
            "right": null,
            "top": null,
            "visibility": null,
            "width": null
          }
        },
        "72ca2e9c37514ce0b3b1a7c1a6913222": {
          "model_module": "@jupyter-widgets/controls",
          "model_name": "DescriptionStyleModel",
          "model_module_version": "1.5.0",
          "state": {
            "_model_module": "@jupyter-widgets/controls",
            "_model_module_version": "1.5.0",
            "_model_name": "DescriptionStyleModel",
            "_view_count": null,
            "_view_module": "@jupyter-widgets/base",
            "_view_module_version": "1.2.0",
            "_view_name": "StyleView",
            "description_width": ""
          }
        }
      }
    }
  },
  "nbformat": 4,
  "nbformat_minor": 0
}